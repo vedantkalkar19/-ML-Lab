{
 "cells": [
  {
   "cell_type": "code",
   "execution_count": 1,
   "id": "303ed86f",
   "metadata": {},
   "outputs": [
    {
     "name": "stdout",
     "output_type": "stream",
     "text": [
      "WELCOME TO PYTHON\n"
     ]
    }
   ],
   "source": [
    "print('WELCOME TO PYTHON')"
   ]
  },
  {
   "cell_type": "code",
   "execution_count": 2,
   "id": "197b5896",
   "metadata": {},
   "outputs": [
    {
     "name": "stdout",
     "output_type": "stream",
     "text": [
      "30\n"
     ]
    }
   ],
   "source": [
    "a=10\n",
    "b=20\n",
    "c=a+b\n",
    "print(c)"
   ]
  },
  {
   "cell_type": "code",
   "execution_count": 3,
   "id": "2149a60c",
   "metadata": {},
   "outputs": [
    {
     "name": "stdout",
     "output_type": "stream",
     "text": [
      "<class 'int'>\n",
      "<class 'int'>\n"
     ]
    }
   ],
   "source": [
    "print(type(a))\n",
    "print(type(c))"
   ]
  },
  {
   "cell_type": "code",
   "execution_count": 4,
   "id": "16f990e4",
   "metadata": {},
   "outputs": [
    {
     "name": "stdout",
     "output_type": "stream",
     "text": [
      "enter number54\n",
      "greater\n"
     ]
    }
   ],
   "source": [
    "a=int(input('enter number'))\n",
    "if(a<10):\n",
    "    print('lessthan')\n",
    "else:\n",
    "    print('greater')"
   ]
  },
  {
   "cell_type": "code",
   "execution_count": 5,
   "id": "0974f39e",
   "metadata": {},
   "outputs": [
    {
     "name": "stdout",
     "output_type": "stream",
     "text": [
      "csa\n"
     ]
    },
    {
     "data": {
      "text/plain": [
       "list"
      ]
     },
     "execution_count": 5,
     "metadata": {},
     "output_type": "execute_result"
    }
   ],
   "source": [
    "alist=[\"da\",\"ds\",\"csa\",\"mfds\",\"3\",\"235.636\"]\n",
    "print(alist[2])\n",
    "type(alist)"
   ]
  },
  {
   "cell_type": "code",
   "execution_count": 6,
   "id": "9ee88686",
   "metadata": {},
   "outputs": [
    {
     "name": "stdout",
     "output_type": "stream",
     "text": [
      "enter the value\n",
      "value5\n",
      "15.0\n"
     ]
    }
   ],
   "source": [
    "print(\"enter the value\")\n",
    "n=int(input('value'))\n",
    "sum=n*(n+1)/2\n",
    "print(sum)"
   ]
  },
  {
   "cell_type": "code",
   "execution_count": 7,
   "id": "c43815fd",
   "metadata": {},
   "outputs": [
    {
     "name": "stdout",
     "output_type": "stream",
     "text": [
      "enter feet4\n",
      "enter inch2\n",
      "121.92\n",
      "5.08\n"
     ]
    }
   ],
   "source": [
    "a=int(input('enter feet'))\n",
    "b=float(input('enter inch'))\n",
    "c=a*12*2.54\n",
    "d=b*2.54\n",
    "print(c)\n",
    "print(d)"
   ]
  },
  {
   "cell_type": "code",
   "execution_count": 8,
   "id": "42008cf8",
   "metadata": {},
   "outputs": [
    {
     "name": "stdout",
     "output_type": "stream",
     "text": [
      "enter the year5\n",
      "33.0\n"
     ]
    }
   ],
   "source": [
    "a=float(input('enter the year'))\n",
    "if(a<3):\n",
    "    b=a*10.5\n",
    "else:\n",
    "    b=(2*10.5)+((a-2)*4)\n",
    "print(b)"
   ]
  },
  {
   "cell_type": "code",
   "execution_count": 9,
   "id": "f3c22bd6",
   "metadata": {},
   "outputs": [
    {
     "name": "stdout",
     "output_type": "stream",
     "text": [
      "enter monthdec\n",
      "31\n"
     ]
    }
   ],
   "source": [
    "a=input('enter month')\n",
    "if(a=='jan'):\n",
    "    print(31)\n",
    "elif(a=='feb'):\n",
    "    print(28)\n",
    "elif(a=='mar'):\n",
    "    print(31)\n",
    "elif(a=='apr'):\n",
    "    print(30)\n",
    "elif(a=='may'):\n",
    "    print(31)\n",
    "elif(a=='jun'):\n",
    "    print(30)\n",
    "elif(a=='jul'):\n",
    "    print(31)\n",
    "elif(a=='aug'):\n",
    "    print(31)\n",
    "elif(a=='sep'):\n",
    "    print(30)\n",
    "elif(a=='oct'):\n",
    "    print(31)\n",
    "elif(a=='nov'):\n",
    "    print(30)\n",
    "elif(a=='dec'):\n",
    "    print(31)\n",
    "else:\n",
    "    print('invalid')\n"
   ]
  },
  {
   "cell_type": "code",
   "execution_count": 10,
   "id": "ef969299",
   "metadata": {},
   "outputs": [
    {
     "name": "stdout",
     "output_type": "stream",
     "text": [
      "hello world\n",
      "l\n",
      "lo wor\n",
      " world\n",
      "hello worldhello world\n",
      "hello worldhi\n"
     ]
    }
   ],
   "source": [
    "str1='hello world'\n",
    "print (str1)\n",
    "print (str1[3])\n",
    "print(str1[3:9])\n",
    "print(str1[5:])\n",
    "print(str1*2)\n",
    "print(str1+\"hi\")"
   ]
  },
  {
   "cell_type": "code",
   "execution_count": 11,
   "id": "81382df1",
   "metadata": {},
   "outputs": [
    {
     "name": "stdout",
     "output_type": "stream",
     "text": [
      "5cm\n"
     ]
    }
   ],
   "source": [
    "x=5\n",
    "y='cm'\n",
    "print(str(x)+y)"
   ]
  },
  {
   "cell_type": "code",
   "execution_count": 12,
   "id": "11f50fc6",
   "metadata": {},
   "outputs": [
    {
     "name": "stdout",
     "output_type": "stream",
     "text": [
      "['d', 'f', 'd', 'f']\n",
      "['d', 'f', 'a', 'ndjvsd', 'ja', 'bnm', '2553']\n"
     ]
    }
   ],
   "source": [
    "blist=['a','ndjvsd','ja','bnm','2553']\n",
    "alis=['d','f']\n",
    "print (alis*2)\n",
    "print(alis+blist)"
   ]
  },
  {
   "cell_type": "code",
   "execution_count": 13,
   "id": "9a522ff8",
   "metadata": {},
   "outputs": [
    {
     "name": "stdout",
     "output_type": "stream",
     "text": [
      "12\n",
      "125\n",
      "142\n",
      "156\n",
      "21\n",
      "25\n"
     ]
    }
   ],
   "source": [
    "l=[12,125,142,156,21,25]\n",
    "for x in l:\n",
    "    print(x)\n"
   ]
  },
  {
   "cell_type": "code",
   "execution_count": 14,
   "id": "a4eec265",
   "metadata": {},
   "outputs": [
    {
     "name": "stdout",
     "output_type": "stream",
     "text": [
      "enter the value5\n",
      "5\n",
      "enter the value6\n",
      "6\n",
      "enter the value4\n",
      "4\n",
      "enter the value2\n",
      "2\n",
      "enter the value3\n",
      "3\n"
     ]
    }
   ],
   "source": [
    "for x in range(5):\n",
    "    print(input(\"enter the value\"))"
   ]
  },
  {
   "cell_type": "code",
   "execution_count": 15,
   "id": "73f8981d",
   "metadata": {},
   "outputs": [
    {
     "name": "stdout",
     "output_type": "stream",
     "text": [
      "enter the value5\n",
      "5\n",
      "enter the value9\n",
      "9\n",
      "enter the value7\n",
      "7\n"
     ]
    }
   ],
   "source": [
    "for x in range(5,8):\n",
    "    print(input(\"enter the value\"))"
   ]
  },
  {
   "cell_type": "code",
   "execution_count": 2,
   "id": "c20c7218",
   "metadata": {},
   "outputs": [],
   "source": [
    "import random as r"
   ]
  },
  {
   "cell_type": "code",
   "execution_count": 3,
   "id": "62ec444e",
   "metadata": {},
   "outputs": [
    {
     "name": "stdout",
     "output_type": "stream",
     "text": [
      "0.6508563418315693\n"
     ]
    }
   ],
   "source": [
    "a=r.random()\n",
    "#packagename.methodname()\n",
    "print(a)"
   ]
  },
  {
   "cell_type": "code",
   "execution_count": 4,
   "id": "ed36050c",
   "metadata": {},
   "outputs": [
    {
     "name": "stdout",
     "output_type": "stream",
     "text": [
      "7826\n"
     ]
    }
   ],
   "source": [
    "a=r.randint(50,10000)\n",
    "#packagename.methodname()\n",
    "print(a)"
   ]
  },
  {
   "cell_type": "code",
   "execution_count": 5,
   "id": "ccc97880",
   "metadata": {},
   "outputs": [
    {
     "name": "stdout",
     "output_type": "stream",
     "text": [
      "2.6363636363636362\n",
      "[0, 1, 1, 1, 2, 3, 4, 4, 4, 4, 5]\n",
      "3\n"
     ]
    }
   ],
   "source": [
    "lis=[0]\n",
    "c=1\n",
    "for x in range(10):\n",
    "    lis.append(r.randint(1,5))\n",
    "    c=c+1\n",
    "sum=0\n",
    "for x in lis:\n",
    "    sum=sum+x\n",
    "print(sum/c)\n",
    "lis.sort()\n",
    "a=c/2\n",
    "print(lis)\n",
    "print(lis[5])\n",
    "\n"
   ]
  },
  {
   "cell_type": "code",
   "execution_count": 6,
   "id": "6b0f56d1",
   "metadata": {},
   "outputs": [
    {
     "name": "stdout",
     "output_type": "stream",
     "text": [
      "2.6363636363636362\n",
      "3\n",
      "4\n"
     ]
    }
   ],
   "source": [
    "import statistics as s\n",
    "print(float(s.mean(lis)))\n",
    "print(s.median(lis))\n",
    "print(s.mode(lis))"
   ]
  },
  {
   "cell_type": "code",
   "execution_count": 23,
   "id": "87d45323",
   "metadata": {},
   "outputs": [
    {
     "name": "stdout",
     "output_type": "stream",
     "text": [
      "q1= 2.75 q2= 5.5 q3= 8.25\n",
      "iqr= 5.5\n",
      "min= 0\n",
      "max= 4\n"
     ]
    }
   ],
   "source": [
    "#5 number summary\n",
    "q1=c/4\n",
    "q2=c/2\n",
    "q3=float(3*(c/4))\n",
    "print('q1=',q1,'q2=',q2,'q3=',q3)\n",
    "iqr = q3-q1\n",
    "print(\"iqr=\",iqr)\n",
    "print(\"min=\",lis[0])\n",
    "print(\"max=\",lis[9])"
   ]
  },
  {
   "cell_type": "code",
   "execution_count": 17,
   "id": "3a56eac9",
   "metadata": {},
   "outputs": [
    {
     "name": "stdout",
     "output_type": "stream",
     "text": [
      "enter positionc\n",
      "enter number45\n",
      "enter value between 1 to 8\n"
     ]
    }
   ],
   "source": [
    "x=input('enter position')\n",
    "y=int(input('enter number'))\n",
    "l1=['a','c','e','g']\n",
    "l2=['b','d','f','h']\n",
    "if x in l1:\n",
    "    if y<9:\n",
    "        if y%2==0:\n",
    "            print('white')\n",
    "        else:\n",
    "            print('black')\n",
    "    else:\n",
    "        print(\"enter value between 1 to 8\")\n",
    "  \n",
    "if x in l2:\n",
    "    if y<9:\n",
    "        if y%2==0:\n",
    "            print('black')\n",
    "        else:\n",
    "            print('white')\n",
    "    else:\n",
    "        print(\"enter value between 1 to 8\")\n",
    "\n",
    "    "
   ]
  },
  {
   "cell_type": "code",
   "execution_count": null,
   "id": "215796c7",
   "metadata": {},
   "outputs": [],
   "source": []
  },
  {
   "cell_type": "code",
   "execution_count": null,
   "id": "c3b08c04",
   "metadata": {},
   "outputs": [],
   "source": []
  }
 ],
 "metadata": {
  "kernelspec": {
   "display_name": "Python 3 (ipykernel)",
   "language": "python",
   "name": "python3"
  },
  "language_info": {
   "codemirror_mode": {
    "name": "ipython",
    "version": 3
   },
   "file_extension": ".py",
   "mimetype": "text/x-python",
   "name": "python",
   "nbconvert_exporter": "python",
   "pygments_lexer": "ipython3",
   "version": "3.9.13"
  }
 },
 "nbformat": 4,
 "nbformat_minor": 5
}
