{
 "cells": [
  {
   "cell_type": "code",
   "execution_count": 1,
   "id": "3a706749",
   "metadata": {},
   "outputs": [
    {
     "name": "stdout",
     "output_type": "stream",
     "text": [
      "Accuracy: 1.0\n"
     ]
    }
   ],
   "source": [
    "# naive bayes\n",
    "\n",
    "\n",
    "from sklearn.naive_bayes import MultinomialNB\n",
    "from sklearn.feature_extraction.text import CountVectorizer\n",
    "from sklearn.metrics import accuracy_score\n",
    "\n",
    "# Sample training data\n",
    "X_train = [\"This is a positive sentence\", \"This is a negative sentence\", \"Another positive sentence\"]\n",
    "y_train = [1, 0, 1] # 1 is positive and 0 is negative\n",
    "\n",
    "# Create a bag of words representation of the training data\n",
    "vectorizer = CountVectorizer()\n",
    "X_train_counts = vectorizer.fit_transform(X_train)\n",
    "\n",
    "# Train the Naive Bayes classifier on the training data\n",
    "clf = MultinomialNB()\n",
    "clf.fit(X_train_counts, y_train)\n",
    "\n",
    "# Sample testing data\n",
    "X_test = [\"This is a positive sentence\", \"This is a negative sentence\"]\n",
    "y_test = [1, 0]\n",
    "\n",
    "# Create a bag of words representation of the testing data\n",
    "X_test_counts = vectorizer.transform(X_test)\n",
    "\n",
    "# Make predictions on the testing data and calculate accuracy\n",
    "y_pred = clf.predict(X_test_counts)\n",
    "accuracy = accuracy_score(y_test, y_pred)\n",
    "print(\"Accuracy:\", accuracy)\n"
   ]
  },
  {
   "cell_type": "code",
   "execution_count": 2,
   "id": "882a70da",
   "metadata": {},
   "outputs": [
    {
     "name": "stdout",
     "output_type": "stream",
     "text": [
      "Accuracy: 1.0\n"
     ]
    }
   ],
   "source": [
    "# S V M\n",
    "\n",
    "from sklearn.svm import SVC\n",
    "from sklearn.feature_extraction.text import CountVectorizer\n",
    "from sklearn.metrics import accuracy_score\n",
    "\n",
    "# Sample training data\n",
    "X_train = [\"This is a positive sentence\", \"This is a negative sentence\", \"Another positive sentence\"]\n",
    "y_train = [1, 0, 1] # 1 is positive and 0 is negative\n",
    "\n",
    "# Create a bag of words representation of the training data\n",
    "vectorizer = CountVectorizer()\n",
    "X_train_counts = vectorizer.fit_transform(X_train)\n",
    "\n",
    "# Train the SVM classifier on the training data\n",
    "clf = SVC()\n",
    "clf.fit(X_train_counts, y_train)\n",
    "\n",
    "# Sample testing data\n",
    "X_test = [\"This is a positive sentence\", \"This is a negative sentence\"]\n",
    "y_test = [1, 0]\n",
    "\n",
    "# Create a bag of words representation of the testing data\n",
    "X_test_counts = vectorizer.transform(X_test)\n",
    "\n",
    "# Make predictions on the testing data and calculate accuracy\n",
    "y_pred = clf.predict(X_test_counts)\n",
    "accuracy = accuracy_score(y_test, y_pred)\n",
    "print(\"Accuracy:\", accuracy)\n"
   ]
  },
  {
   "cell_type": "markdown",
   "id": "1446558a",
   "metadata": {},
   "source": [
    "# Build the models for at least 4 datasets, with at least 4 train_test_split combinations.\n",
    "\n",
    "# Perform the data pre-processing and performance evaluation for the models"
   ]
  },
  {
   "cell_type": "code",
   "execution_count": 4,
   "id": "682e9702",
   "metadata": {},
   "outputs": [
    {
     "name": "stdout",
     "output_type": "stream",
     "text": [
      "Accuracy of NB with test_size=0.2:  0.9666666666666667\n",
      "Accuracy of NB with test_size=0.3:  0.9777777777777777\n",
      "Accuracy of NB with test_size=0.4:  0.9833333333333333\n",
      "Accuracy of NB with test_size=0.5:  0.9466666666666667\n",
      "Accuracy of SVM with test_size=0.2:  0.9666666666666667\n",
      "Accuracy of SVM with test_size=0.3:  0.9777777777777777\n",
      "Accuracy of SVM with test_size=0.4:  0.95\n",
      "Accuracy of SVM with test_size\n"
     ]
    }
   ],
   "source": [
    "from sklearn.datasets import load_iris\n",
    "from sklearn.model_selection import train_test_split\n",
    "from sklearn.naive_bayes import GaussianNB\n",
    "from sklearn.svm import SVC\n",
    "from sklearn.metrics import accuracy_score\n",
    "\n",
    "# Load the Iris dataset\n",
    "iris = load_iris()\n",
    "X = iris.data\n",
    "y = iris.target\n",
    "\n",
    "# Split the dataset into training and testing sets, and perform data preprocessing\n",
    "X_train1, X_test1, y_train1, y_test1 = train_test_split(X, y, test_size=0.2, random_state=1)\n",
    "X_train2, X_test2, y_train2, y_test2 = train_test_split(X, y, test_size=0.3, random_state=2)\n",
    "X_train3, X_test3, y_train3, y_test3 = train_test_split(X, y, test_size=0.4, random_state=3)\n",
    "X_train4, X_test4, y_train4, y_test4 = train_test_split(X, y, test_size=0.5, random_state=4)\n",
    "\n",
    "# Train the Naive Bayes classifier and evaluate performance\n",
    "clf_nb1 = GaussianNB()\n",
    "clf_nb1.fit(X_train1, y_train1)\n",
    "y_pred1 = clf_nb1.predict(X_test1)\n",
    "acc1 = accuracy_score(y_test1, y_pred1)\n",
    "print(\"Accuracy of NB with test_size=0.2: \", acc1)\n",
    "\n",
    "clf_nb2 = GaussianNB()\n",
    "clf_nb2.fit(X_train2, y_train2)\n",
    "y_pred2 = clf_nb2.predict(X_test2)\n",
    "acc2 = accuracy_score(y_test2, y_pred2)\n",
    "print(\"Accuracy of NB with test_size=0.3: \", acc2)\n",
    "\n",
    "clf_nb3 = GaussianNB()\n",
    "clf_nb3.fit(X_train3, y_train3)\n",
    "y_pred3 = clf_nb3.predict(X_test3)\n",
    "acc3 = accuracy_score(y_test3, y_pred3)\n",
    "print(\"Accuracy of NB with test_size=0.4: \", acc3)\n",
    "\n",
    "clf_nb4 = GaussianNB()\n",
    "clf_nb4.fit(X_train4, y_train4)\n",
    "y_pred4 = clf_nb4.predict(X_test4)\n",
    "acc4 = accuracy_score(y_test4, y_pred4)\n",
    "print(\"Accuracy of NB with test_size=0.5: \", acc4)\n",
    "\n",
    "# Train the SVM classifier and evaluate performance\n",
    "clf_svm1 = SVC()\n",
    "clf_svm1.fit(X_train1, y_train1)\n",
    "y_pred1 = clf_svm1.predict(X_test1)\n",
    "acc1 = accuracy_score(y_test1, y_pred1)\n",
    "print(\"Accuracy of SVM with test_size=0.2: \", acc1)\n",
    "\n",
    "clf_svm2 = SVC()\n",
    "clf_svm2.fit(X_train2, y_train2)\n",
    "y_pred2 = clf_svm2.predict(X_test2)\n",
    "acc2 = accuracy_score(y_test2, y_pred2)\n",
    "print(\"Accuracy of SVM with test_size=0.3: \", acc2)\n",
    "\n",
    "clf_svm3 = SVC()\n",
    "clf_svm3.fit(X_train3, y_train3)\n",
    "y_pred3 = clf_svm3.predict(X_test3)\n",
    "acc3 = accuracy_score(y_test3, y_pred3)\n",
    "print(\"Accuracy of SVM with test_size=0.4: \", acc3)\n",
    "\n",
    "clf_svm4 = SVC()\n",
    "clf_svm4.fit(X_train4, y_train4)\n",
    "y_pred4 = clf_svm4.predict(X_test4)\n",
    "acc4 = accuracy_score(y_test4, y_pred4)\n",
    "print(\"Accuracy of SVM with test_size\")\n"
   ]
  },
  {
   "cell_type": "code",
   "execution_count": null,
   "id": "e5b1fc53",
   "metadata": {},
   "outputs": [],
   "source": []
  }
 ],
 "metadata": {
  "kernelspec": {
   "display_name": "Python 3 (ipykernel)",
   "language": "python",
   "name": "python3"
  },
  "language_info": {
   "codemirror_mode": {
    "name": "ipython",
    "version": 3
   },
   "file_extension": ".py",
   "mimetype": "text/x-python",
   "name": "python",
   "nbconvert_exporter": "python",
   "pygments_lexer": "ipython3",
   "version": "3.9.13"
  }
 },
 "nbformat": 4,
 "nbformat_minor": 5
}
