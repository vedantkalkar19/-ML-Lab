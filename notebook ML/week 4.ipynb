{
 "cells": [
  {
   "cell_type": "code",
   "execution_count": 2,
   "id": "58e82e05",
   "metadata": {},
   "outputs": [],
   "source": [
    "import numpy as np\n",
    "import pandas as pd\n",
    "import matplotlib.pyplot as plt\n",
    "from sklearn import metrics\n",
    "from sklearn.model_selection import train_test_split\n",
    "from sklearn.linear_model import LinearRegression"
   ]
  },
  {
   "cell_type": "markdown",
   "id": "314258b9",
   "metadata": {},
   "source": [
    "# Q1 a) Sample X-Y Dataset"
   ]
  },
  {
   "cell_type": "code",
   "execution_count": 3,
   "id": "c66cfdd4",
   "metadata": {},
   "outputs": [
    {
     "data": {
      "text/html": [
       "<div>\n",
       "<style scoped>\n",
       "    .dataframe tbody tr th:only-of-type {\n",
       "        vertical-align: middle;\n",
       "    }\n",
       "\n",
       "    .dataframe tbody tr th {\n",
       "        vertical-align: top;\n",
       "    }\n",
       "\n",
       "    .dataframe thead th {\n",
       "        text-align: right;\n",
       "    }\n",
       "</style>\n",
       "<table border=\"1\" class=\"dataframe\">\n",
       "  <thead>\n",
       "    <tr style=\"text-align: right;\">\n",
       "      <th></th>\n",
       "      <th>X</th>\n",
       "      <th>Y</th>\n",
       "    </tr>\n",
       "  </thead>\n",
       "  <tbody>\n",
       "    <tr>\n",
       "      <th>0</th>\n",
       "      <td>10</td>\n",
       "      <td>40</td>\n",
       "    </tr>\n",
       "    <tr>\n",
       "      <th>1</th>\n",
       "      <td>12</td>\n",
       "      <td>43</td>\n",
       "    </tr>\n",
       "    <tr>\n",
       "      <th>2</th>\n",
       "      <td>9</td>\n",
       "      <td>37</td>\n",
       "    </tr>\n",
       "    <tr>\n",
       "      <th>3</th>\n",
       "      <td>16</td>\n",
       "      <td>49</td>\n",
       "    </tr>\n",
       "    <tr>\n",
       "      <th>4</th>\n",
       "      <td>18</td>\n",
       "      <td>50</td>\n",
       "    </tr>\n",
       "    <tr>\n",
       "      <th>5</th>\n",
       "      <td>21</td>\n",
       "      <td>58</td>\n",
       "    </tr>\n",
       "    <tr>\n",
       "      <th>6</th>\n",
       "      <td>11</td>\n",
       "      <td>41</td>\n",
       "    </tr>\n",
       "    <tr>\n",
       "      <th>7</th>\n",
       "      <td>17</td>\n",
       "      <td>44</td>\n",
       "    </tr>\n",
       "    <tr>\n",
       "      <th>8</th>\n",
       "      <td>29</td>\n",
       "      <td>66</td>\n",
       "    </tr>\n",
       "    <tr>\n",
       "      <th>9</th>\n",
       "      <td>19</td>\n",
       "      <td>53</td>\n",
       "    </tr>\n",
       "  </tbody>\n",
       "</table>\n",
       "</div>"
      ],
      "text/plain": [
       "    X   Y\n",
       "0  10  40\n",
       "1  12  43\n",
       "2   9  37\n",
       "3  16  49\n",
       "4  18  50\n",
       "5  21  58\n",
       "6  11  41\n",
       "7  17  44\n",
       "8  29  66\n",
       "9  19  53"
      ]
     },
     "execution_count": 3,
     "metadata": {},
     "output_type": "execute_result"
    }
   ],
   "source": [
    "dataset={\"X\":[10,12,9,16,18,21,11,17,29,19],\"Y\":[40,43,37,49,50,58,41,44,66,53]}\n",
    "df = pd.DataFrame(dataset)\n",
    "df"
   ]
  },
  {
   "cell_type": "markdown",
   "id": "a3ad40c5",
   "metadata": {},
   "source": [
    "# The model is trained without using train_test_split"
   ]
  },
  {
   "cell_type": "code",
   "execution_count": 4,
   "id": "8a93a995",
   "metadata": {},
   "outputs": [
    {
     "name": "stdout",
     "output_type": "stream",
     "text": [
      "The R^2 value is  0.9427885322418427  which is close to 1 and hence explains the variation between X and Y\n"
     ]
    }
   ],
   "source": [
    "slr = LinearRegression()\n",
    "x=df[['X']]\n",
    "y=df[['Y']]\n",
    "slr.fit(x,y)\n",
    "print(\"The R^2 value is \",slr.score(x,y),\" which is close to 1 and hence explains the variation between X and Y\")"
   ]
  },
  {
   "cell_type": "markdown",
   "id": "a163f297",
   "metadata": {},
   "source": [
    "# Coefficients of the linear equation"
   ]
  },
  {
   "cell_type": "code",
   "execution_count": 5,
   "id": "5d9898ca",
   "metadata": {},
   "outputs": [],
   "source": [
    "M = slr.coef_\n",
    "C = slr.intercept_"
   ]
  },
  {
   "cell_type": "code",
   "execution_count": 6,
   "id": "e3b2a505",
   "metadata": {},
   "outputs": [
    {
     "name": "stdout",
     "output_type": "stream",
     "text": [
      "The value of the slope/Beta1 is [[1.4352518]] and the value of the beta0/intercept is [24.84892086]\n"
     ]
    }
   ],
   "source": [
    "print(\"The value of the slope/Beta1 is\",M,\"and the value of the beta0/intercept is\",C)"
   ]
  },
  {
   "cell_type": "code",
   "execution_count": 7,
   "id": "d3b20cc3",
   "metadata": {},
   "outputs": [
    {
     "data": {
      "text/html": [
       "<div>\n",
       "<style scoped>\n",
       "    .dataframe tbody tr th:only-of-type {\n",
       "        vertical-align: middle;\n",
       "    }\n",
       "\n",
       "    .dataframe tbody tr th {\n",
       "        vertical-align: top;\n",
       "    }\n",
       "\n",
       "    .dataframe thead th {\n",
       "        text-align: right;\n",
       "    }\n",
       "</style>\n",
       "<table border=\"1\" class=\"dataframe\">\n",
       "  <thead>\n",
       "    <tr style=\"text-align: right;\">\n",
       "      <th></th>\n",
       "      <th>X</th>\n",
       "      <th>Y</th>\n",
       "      <th>ynew</th>\n",
       "    </tr>\n",
       "  </thead>\n",
       "  <tbody>\n",
       "    <tr>\n",
       "      <th>0</th>\n",
       "      <td>10</td>\n",
       "      <td>40</td>\n",
       "      <td>39.201439</td>\n",
       "    </tr>\n",
       "    <tr>\n",
       "      <th>1</th>\n",
       "      <td>12</td>\n",
       "      <td>43</td>\n",
       "      <td>42.071942</td>\n",
       "    </tr>\n",
       "    <tr>\n",
       "      <th>2</th>\n",
       "      <td>9</td>\n",
       "      <td>37</td>\n",
       "      <td>37.766187</td>\n",
       "    </tr>\n",
       "    <tr>\n",
       "      <th>3</th>\n",
       "      <td>16</td>\n",
       "      <td>49</td>\n",
       "      <td>47.812950</td>\n",
       "    </tr>\n",
       "    <tr>\n",
       "      <th>4</th>\n",
       "      <td>18</td>\n",
       "      <td>50</td>\n",
       "      <td>50.683453</td>\n",
       "    </tr>\n",
       "    <tr>\n",
       "      <th>5</th>\n",
       "      <td>21</td>\n",
       "      <td>58</td>\n",
       "      <td>54.989209</td>\n",
       "    </tr>\n",
       "    <tr>\n",
       "      <th>6</th>\n",
       "      <td>11</td>\n",
       "      <td>41</td>\n",
       "      <td>40.636691</td>\n",
       "    </tr>\n",
       "    <tr>\n",
       "      <th>7</th>\n",
       "      <td>17</td>\n",
       "      <td>44</td>\n",
       "      <td>49.248201</td>\n",
       "    </tr>\n",
       "    <tr>\n",
       "      <th>8</th>\n",
       "      <td>29</td>\n",
       "      <td>66</td>\n",
       "      <td>66.471223</td>\n",
       "    </tr>\n",
       "    <tr>\n",
       "      <th>9</th>\n",
       "      <td>19</td>\n",
       "      <td>53</td>\n",
       "      <td>52.118705</td>\n",
       "    </tr>\n",
       "  </tbody>\n",
       "</table>\n",
       "</div>"
      ],
      "text/plain": [
       "    X   Y       ynew\n",
       "0  10  40  39.201439\n",
       "1  12  43  42.071942\n",
       "2   9  37  37.766187\n",
       "3  16  49  47.812950\n",
       "4  18  50  50.683453\n",
       "5  21  58  54.989209\n",
       "6  11  41  40.636691\n",
       "7  17  44  49.248201\n",
       "8  29  66  66.471223\n",
       "9  19  53  52.118705"
      ]
     },
     "execution_count": 7,
     "metadata": {},
     "output_type": "execute_result"
    }
   ],
   "source": [
    "df['ynew'] = M*df[['X']]+C\n",
    "df"
   ]
  },
  {
   "cell_type": "markdown",
   "id": "13943490",
   "metadata": {},
   "source": [
    "# The predicted values are"
   ]
  },
  {
   "cell_type": "code",
   "execution_count": 8,
   "id": "85838598",
   "metadata": {
    "scrolled": false
   },
   "outputs": [
    {
     "data": {
      "text/plain": [
       "array([[39.20143885],\n",
       "       [42.07194245],\n",
       "       [37.76618705],\n",
       "       [47.81294964],\n",
       "       [50.68345324],\n",
       "       [54.98920863],\n",
       "       [40.63669065],\n",
       "       [49.24820144],\n",
       "       [66.47122302],\n",
       "       [52.11870504]])"
      ]
     },
     "execution_count": 8,
     "metadata": {},
     "output_type": "execute_result"
    }
   ],
   "source": [
    "yhat = slr.predict(df[['X']])\n",
    "yhat"
   ]
  },
  {
   "cell_type": "code",
   "execution_count": 9,
   "id": "cb0e786e",
   "metadata": {},
   "outputs": [
    {
     "name": "stderr",
     "output_type": "stream",
     "text": [
      "C:\\Users\\jarvi\\AppData\\Roaming\\Python\\Python39\\site-packages\\sklearn\\base.py:420: UserWarning: X does not have valid feature names, but LinearRegression was fitted with feature names\n",
      "  warnings.warn(\n"
     ]
    },
    {
     "data": {
      "text/plain": [
       "array([[53.55395683]])"
      ]
     },
     "execution_count": 9,
     "metadata": {},
     "output_type": "execute_result"
    }
   ],
   "source": [
    "a = [[20]]\n",
    "slr.predict(a)"
   ]
  },
  {
   "cell_type": "markdown",
   "id": "351dad83",
   "metadata": {},
   "source": [
    "# Linear regression using X and Predicted values of Y without using train_test_split"
   ]
  },
  {
   "cell_type": "code",
   "execution_count": 10,
   "id": "07cd1219",
   "metadata": {},
   "outputs": [
    {
     "data": {
      "image/png": "[encoded data removed]",
      "text/plain": [
       "<Figure size 720x720 with 1 Axes>"
      ]
     },
     "metadata": {
      "needs_background": "light"
     },
     "output_type": "display_data"
    }
   ],
   "source": [
    "plt.figure(figsize=(10,10))\n",
    "plt.scatter(x='X',y='Y',data = df)\n",
    "x = df['X']\n",
    "y = df['ynew']\n",
    "plt.plot(x,y,color='red')\n",
    "plt.xlabel(\"X\")\n",
    "plt.ylabel(\"Y\")\n",
    "plt.show()"
   ]
  },
  {
   "cell_type": "markdown",
   "id": "74bccff9",
   "metadata": {},
   "source": [
    "# Training using train_test_split function with test_size = 20%"
   ]
  },
  {
   "cell_type": "code",
   "execution_count": 11,
   "id": "912e4d97",
   "metadata": {
    "scrolled": true
   },
   "outputs": [
    {
     "data": {
      "text/plain": [
       "0.9422939166850343"
      ]
     },
     "execution_count": 11,
     "metadata": {},
     "output_type": "execute_result"
    }
   ],
   "source": [
    "X1 = df[['X']]\n",
    "Y1 = df[['Y']]\n",
    "X_train,X_test,Y_train,Y_test = train_test_split(X1,Y1,test_size=0.2)\n",
    "lr = LinearRegression()\n",
    "lr.fit(X_train,Y_train)\n",
    "lr.score(X_train,Y_train)"
   ]
  },
  {
   "cell_type": "markdown",
   "id": "53bda36d",
   "metadata": {},
   "source": [
    "# Using the predict function without using the linear equation"
   ]
  },
  {
   "cell_type": "code",
   "execution_count": 12,
   "id": "3a8ef19e",
   "metadata": {},
   "outputs": [
    {
     "data": {
      "text/plain": [
       "array([[39.0625    ],\n",
       "       [41.96634615],\n",
       "       [37.61057692],\n",
       "       [47.77403846],\n",
       "       [50.67788462],\n",
       "       [55.03365385],\n",
       "       [40.51442308],\n",
       "       [49.22596154],\n",
       "       [66.64903846],\n",
       "       [52.12980769]])"
      ]
     },
     "execution_count": 12,
     "metadata": {},
     "output_type": "execute_result"
    }
   ],
   "source": [
    "Ynew1 = lr.predict(df[['X']])\n",
    "Ynew1"
   ]
  },
  {
   "cell_type": "markdown",
   "id": "281d4bb1",
   "metadata": {},
   "source": [
    "# The below graph of linear regression is made with the training data obtained by train_test_split function\n"
   ]
  },
  {
   "cell_type": "code",
   "execution_count": 13,
   "id": "9015f071",
   "metadata": {},
   "outputs": [
    {
     "data": {
      "image/png": "[encoded data removed]",
      "text/plain": [
       "<Figure size 720x720 with 1 Axes>"
      ]
     },
     "metadata": {
      "needs_background": "light"
     },
     "output_type": "display_data"
    }
   ],
   "source": [
    "plt.figure(figsize=(10,10))\n",
    "plt.scatter(x='X',y='Y',data=df)\n",
    "x=df['X']\n",
    "plt.plot(x,Ynew1,color='red')\n",
    "plt.show()"
   ]
  },
  {
   "cell_type": "code",
   "execution_count": 14,
   "id": "3c6a0895",
   "metadata": {},
   "outputs": [
    {
     "data": {
      "text/html": [
       "<div>\n",
       "<style scoped>\n",
       "    .dataframe tbody tr th:only-of-type {\n",
       "        vertical-align: middle;\n",
       "    }\n",
       "\n",
       "    .dataframe tbody tr th {\n",
       "        vertical-align: top;\n",
       "    }\n",
       "\n",
       "    .dataframe thead th {\n",
       "        text-align: right;\n",
       "    }\n",
       "</style>\n",
       "<table border=\"1\" class=\"dataframe\">\n",
       "  <thead>\n",
       "    <tr style=\"text-align: right;\">\n",
       "      <th></th>\n",
       "      <th>Y</th>\n",
       "    </tr>\n",
       "  </thead>\n",
       "  <tbody>\n",
       "    <tr>\n",
       "      <th>0</th>\n",
       "      <td>0.937500</td>\n",
       "    </tr>\n",
       "    <tr>\n",
       "      <th>1</th>\n",
       "      <td>1.033654</td>\n",
       "    </tr>\n",
       "    <tr>\n",
       "      <th>2</th>\n",
       "      <td>-0.610577</td>\n",
       "    </tr>\n",
       "    <tr>\n",
       "      <th>3</th>\n",
       "      <td>1.225962</td>\n",
       "    </tr>\n",
       "    <tr>\n",
       "      <th>4</th>\n",
       "      <td>-0.677885</td>\n",
       "    </tr>\n",
       "    <tr>\n",
       "      <th>5</th>\n",
       "      <td>2.966346</td>\n",
       "    </tr>\n",
       "    <tr>\n",
       "      <th>6</th>\n",
       "      <td>0.485577</td>\n",
       "    </tr>\n",
       "    <tr>\n",
       "      <th>7</th>\n",
       "      <td>-5.225962</td>\n",
       "    </tr>\n",
       "    <tr>\n",
       "      <th>8</th>\n",
       "      <td>-0.649038</td>\n",
       "    </tr>\n",
       "    <tr>\n",
       "      <th>9</th>\n",
       "      <td>0.870192</td>\n",
       "    </tr>\n",
       "  </tbody>\n",
       "</table>\n",
       "</div>"
      ],
      "text/plain": [
       "          Y\n",
       "0  0.937500\n",
       "1  1.033654\n",
       "2 -0.610577\n",
       "3  1.225962\n",
       "4 -0.677885\n",
       "5  2.966346\n",
       "6  0.485577\n",
       "7 -5.225962\n",
       "8 -0.649038\n",
       "9  0.870192"
      ]
     },
     "execution_count": 14,
     "metadata": {},
     "output_type": "execute_result"
    }
   ],
   "source": [
    "error = df[['Y']]-Ynew1\n",
    "error"
   ]
  },
  {
   "cell_type": "code",
   "execution_count": 15,
   "id": "393060ce",
   "metadata": {},
   "outputs": [],
   "source": [
    "from sklearn.metrics import mean_squared_error,mean_absolute_error"
   ]
  },
  {
   "cell_type": "markdown",
   "id": "5b44a8cf",
   "metadata": {},
   "source": [
    "# SLR ERROR INCLUDE MSE,RMSE,MAR"
   ]
  },
  {
   "cell_type": "code",
   "execution_count": 16,
   "id": "3c2f5cae",
   "metadata": {},
   "outputs": [
    {
     "name": "stdout",
     "output_type": "stream",
     "text": [
      "THE MEAN SQUARED ERROR MSE IS 4.170143884892089\n"
     ]
    }
   ],
   "source": [
    "print(\"THE MEAN SQUARED ERROR MSE IS\",mean_squared_error(df['Y'],yhat))"
   ]
  },
  {
   "cell_type": "code",
   "execution_count": 17,
   "id": "1088e344",
   "metadata": {},
   "outputs": [
    {
     "name": "stdout",
     "output_type": "stream",
     "text": [
      "THE MEAN ABSOLUTE ERROR IS 1.4338129496402885\n"
     ]
    }
   ],
   "source": [
    "print(\"THE MEAN ABSOLUTE ERROR IS\",mean_absolute_error(df['Y'],yhat))"
   ]
  },
  {
   "cell_type": "code",
   "execution_count": 18,
   "id": "4e4c23f3",
   "metadata": {},
   "outputs": [
    {
     "name": "stdout",
     "output_type": "stream",
     "text": [
      "THE ROOT MEAN SQUARED ERROR IS 2.0420930157297166\n"
     ]
    }
   ],
   "source": [
    "print(\"THE ROOT MEAN SQUARED ERROR IS\",mean_squared_error(df['Y'],yhat,squared=False))"
   ]
  },
  {
   "cell_type": "code",
   "execution_count": 19,
   "id": "4a39e99d",
   "metadata": {},
   "outputs": [],
   "source": [
    "#MLR table with tejasvee "
   ]
  },
  {
   "cell_type": "markdown",
   "id": "edc8a0df",
   "metadata": {},
   "source": [
    "# b)Student Marks dataset"
   ]
  },
  {
   "cell_type": "markdown",
   "id": "c9dac476",
   "metadata": {},
   "source": [
    "# Generating Marks and Grades with random function"
   ]
  },
  {
   "cell_type": "code",
   "execution_count": 20,
   "id": "734d3baf",
   "metadata": {},
   "outputs": [
    {
     "data": {
      "text/html": [
       "<div>\n",
       "<style scoped>\n",
       "    .dataframe tbody tr th:only-of-type {\n",
       "        vertical-align: middle;\n",
       "    }\n",
       "\n",
       "    .dataframe tbody tr th {\n",
       "        vertical-align: top;\n",
       "    }\n",
       "\n",
       "    .dataframe thead th {\n",
       "        text-align: right;\n",
       "    }\n",
       "</style>\n",
       "<table border=\"1\" class=\"dataframe\">\n",
       "  <thead>\n",
       "    <tr style=\"text-align: right;\">\n",
       "      <th></th>\n",
       "      <th>Marks</th>\n",
       "      <th>Grades</th>\n",
       "    </tr>\n",
       "  </thead>\n",
       "  <tbody>\n",
       "    <tr>\n",
       "      <th>0</th>\n",
       "      <td>44</td>\n",
       "      <td>4</td>\n",
       "    </tr>\n",
       "    <tr>\n",
       "      <th>1</th>\n",
       "      <td>11</td>\n",
       "      <td>9</td>\n",
       "    </tr>\n",
       "    <tr>\n",
       "      <th>2</th>\n",
       "      <td>17</td>\n",
       "      <td>5</td>\n",
       "    </tr>\n",
       "    <tr>\n",
       "      <th>3</th>\n",
       "      <td>21</td>\n",
       "      <td>6</td>\n",
       "    </tr>\n",
       "    <tr>\n",
       "      <th>4</th>\n",
       "      <td>39</td>\n",
       "      <td>8</td>\n",
       "    </tr>\n",
       "    <tr>\n",
       "      <th>5</th>\n",
       "      <td>47</td>\n",
       "      <td>6</td>\n",
       "    </tr>\n",
       "    <tr>\n",
       "      <th>6</th>\n",
       "      <td>47</td>\n",
       "      <td>3</td>\n",
       "    </tr>\n",
       "    <tr>\n",
       "      <th>7</th>\n",
       "      <td>44</td>\n",
       "      <td>0</td>\n",
       "    </tr>\n",
       "    <tr>\n",
       "      <th>8</th>\n",
       "      <td>23</td>\n",
       "      <td>6</td>\n",
       "    </tr>\n",
       "    <tr>\n",
       "      <th>9</th>\n",
       "      <td>8</td>\n",
       "      <td>9</td>\n",
       "    </tr>\n",
       "    <tr>\n",
       "      <th>10</th>\n",
       "      <td>1</td>\n",
       "      <td>8</td>\n",
       "    </tr>\n",
       "    <tr>\n",
       "      <th>11</th>\n",
       "      <td>29</td>\n",
       "      <td>4</td>\n",
       "    </tr>\n",
       "    <tr>\n",
       "      <th>12</th>\n",
       "      <td>13</td>\n",
       "      <td>2</td>\n",
       "    </tr>\n",
       "    <tr>\n",
       "      <th>13</th>\n",
       "      <td>49</td>\n",
       "      <td>0</td>\n",
       "    </tr>\n",
       "    <tr>\n",
       "      <th>14</th>\n",
       "      <td>36</td>\n",
       "      <td>3</td>\n",
       "    </tr>\n",
       "    <tr>\n",
       "      <th>15</th>\n",
       "      <td>12</td>\n",
       "      <td>6</td>\n",
       "    </tr>\n",
       "    <tr>\n",
       "      <th>16</th>\n",
       "      <td>50</td>\n",
       "      <td>2</td>\n",
       "    </tr>\n",
       "    <tr>\n",
       "      <th>17</th>\n",
       "      <td>25</td>\n",
       "      <td>9</td>\n",
       "    </tr>\n",
       "    <tr>\n",
       "      <th>18</th>\n",
       "      <td>46</td>\n",
       "      <td>3</td>\n",
       "    </tr>\n",
       "    <tr>\n",
       "      <th>19</th>\n",
       "      <td>21</td>\n",
       "      <td>10</td>\n",
       "    </tr>\n",
       "  </tbody>\n",
       "</table>\n",
       "</div>"
      ],
      "text/plain": [
       "    Marks  Grades\n",
       "0      44       4\n",
       "1      11       9\n",
       "2      17       5\n",
       "3      21       6\n",
       "4      39       8\n",
       "5      47       6\n",
       "6      47       3\n",
       "7      44       0\n",
       "8      23       6\n",
       "9       8       9\n",
       "10      1       8\n",
       "11     29       4\n",
       "12     13       2\n",
       "13     49       0\n",
       "14     36       3\n",
       "15     12       6\n",
       "16     50       2\n",
       "17     25       9\n",
       "18     46       3\n",
       "19     21      10"
      ]
     },
     "execution_count": 20,
     "metadata": {},
     "output_type": "execute_result"
    }
   ],
   "source": [
    "import random as r\n",
    "l1 = []\n",
    "l2 = []\n",
    "for i in range(20):\n",
    "    l1.append(r.randint(0,50))\n",
    "    l2.append(r.randint(0,10))\n",
    "marks = {\"Marks\":l1,\"Grades\":l2}\n",
    "data1 = pd.DataFrame(marks)\n",
    "data1"
   ]
  },
  {
   "cell_type": "markdown",
   "id": "fab8cfcc",
   "metadata": {},
   "source": [
    "# Fitting the model with the variables and generating the R^2 values"
   ]
  },
  {
   "cell_type": "code",
   "execution_count": 21,
   "id": "8c111f5e",
   "metadata": {},
   "outputs": [
    {
     "data": {
      "text/plain": [
       "0.38174114140459103"
      ]
     },
     "execution_count": 21,
     "metadata": {},
     "output_type": "execute_result"
    }
   ],
   "source": [
    "x = data1[['Marks']]\n",
    "y = data1[['Grades']]\n",
    "lr1 = LinearRegression()\n",
    "lr1.fit(x,y)\n",
    "lr1.score(x,y)"
   ]
  },
  {
   "cell_type": "markdown",
   "id": "b452c0d9",
   "metadata": {},
   "source": [
    "# coefficient and intercept calculation"
   ]
  },
  {
   "cell_type": "code",
   "execution_count": 22,
   "id": "692207c2",
   "metadata": {},
   "outputs": [
    {
     "data": {
      "text/plain": [
       "array([[-0.1185617]])"
      ]
     },
     "execution_count": 22,
     "metadata": {},
     "output_type": "execute_result"
    }
   ],
   "source": [
    "m = lr1.coef_\n",
    "m"
   ]
  },
  {
   "cell_type": "code",
   "execution_count": 23,
   "id": "94ec3f26",
   "metadata": {},
   "outputs": [
    {
     "data": {
      "text/plain": [
       "array([8.60607356])"
      ]
     },
     "execution_count": 23,
     "metadata": {},
     "output_type": "execute_result"
    }
   ],
   "source": [
    "c = lr1.intercept_\n",
    "c"
   ]
  },
  {
   "cell_type": "markdown",
   "id": "8f8441ef",
   "metadata": {},
   "source": [
    "# Predicting Y/grades based on marks input by using the formula y = mx+c"
   ]
  },
  {
   "cell_type": "code",
   "execution_count": 24,
   "id": "f0e46e97",
   "metadata": {},
   "outputs": [
    {
     "data": {
      "text/html": [
       "<div>\n",
       "<style scoped>\n",
       "    .dataframe tbody tr th:only-of-type {\n",
       "        vertical-align: middle;\n",
       "    }\n",
       "\n",
       "    .dataframe tbody tr th {\n",
       "        vertical-align: top;\n",
       "    }\n",
       "\n",
       "    .dataframe thead th {\n",
       "        text-align: right;\n",
       "    }\n",
       "</style>\n",
       "<table border=\"1\" class=\"dataframe\">\n",
       "  <thead>\n",
       "    <tr style=\"text-align: right;\">\n",
       "      <th></th>\n",
       "      <th>Marks</th>\n",
       "      <th>Grades</th>\n",
       "      <th>Ypred</th>\n",
       "    </tr>\n",
       "  </thead>\n",
       "  <tbody>\n",
       "    <tr>\n",
       "      <th>0</th>\n",
       "      <td>44</td>\n",
       "      <td>4</td>\n",
       "      <td>3.389359</td>\n",
       "    </tr>\n",
       "    <tr>\n",
       "      <th>1</th>\n",
       "      <td>11</td>\n",
       "      <td>9</td>\n",
       "      <td>7.301895</td>\n",
       "    </tr>\n",
       "    <tr>\n",
       "      <th>2</th>\n",
       "      <td>17</td>\n",
       "      <td>5</td>\n",
       "      <td>6.590525</td>\n",
       "    </tr>\n",
       "    <tr>\n",
       "      <th>3</th>\n",
       "      <td>21</td>\n",
       "      <td>6</td>\n",
       "      <td>6.116278</td>\n",
       "    </tr>\n",
       "    <tr>\n",
       "      <th>4</th>\n",
       "      <td>39</td>\n",
       "      <td>8</td>\n",
       "      <td>3.982167</td>\n",
       "    </tr>\n",
       "    <tr>\n",
       "      <th>5</th>\n",
       "      <td>47</td>\n",
       "      <td>6</td>\n",
       "      <td>3.033674</td>\n",
       "    </tr>\n",
       "    <tr>\n",
       "      <th>6</th>\n",
       "      <td>47</td>\n",
       "      <td>3</td>\n",
       "      <td>3.033674</td>\n",
       "    </tr>\n",
       "    <tr>\n",
       "      <th>7</th>\n",
       "      <td>44</td>\n",
       "      <td>0</td>\n",
       "      <td>3.389359</td>\n",
       "    </tr>\n",
       "    <tr>\n",
       "      <th>8</th>\n",
       "      <td>23</td>\n",
       "      <td>6</td>\n",
       "      <td>5.879154</td>\n",
       "    </tr>\n",
       "    <tr>\n",
       "      <th>9</th>\n",
       "      <td>8</td>\n",
       "      <td>9</td>\n",
       "      <td>7.657580</td>\n",
       "    </tr>\n",
       "    <tr>\n",
       "      <th>10</th>\n",
       "      <td>1</td>\n",
       "      <td>8</td>\n",
       "      <td>8.487512</td>\n",
       "    </tr>\n",
       "    <tr>\n",
       "      <th>11</th>\n",
       "      <td>29</td>\n",
       "      <td>4</td>\n",
       "      <td>5.167784</td>\n",
       "    </tr>\n",
       "    <tr>\n",
       "      <th>12</th>\n",
       "      <td>13</td>\n",
       "      <td>2</td>\n",
       "      <td>7.064771</td>\n",
       "    </tr>\n",
       "    <tr>\n",
       "      <th>13</th>\n",
       "      <td>49</td>\n",
       "      <td>0</td>\n",
       "      <td>2.796550</td>\n",
       "    </tr>\n",
       "    <tr>\n",
       "      <th>14</th>\n",
       "      <td>36</td>\n",
       "      <td>3</td>\n",
       "      <td>4.337852</td>\n",
       "    </tr>\n",
       "    <tr>\n",
       "      <th>15</th>\n",
       "      <td>12</td>\n",
       "      <td>6</td>\n",
       "      <td>7.183333</td>\n",
       "    </tr>\n",
       "    <tr>\n",
       "      <th>16</th>\n",
       "      <td>50</td>\n",
       "      <td>2</td>\n",
       "      <td>2.677989</td>\n",
       "    </tr>\n",
       "    <tr>\n",
       "      <th>17</th>\n",
       "      <td>25</td>\n",
       "      <td>9</td>\n",
       "      <td>5.642031</td>\n",
       "    </tr>\n",
       "    <tr>\n",
       "      <th>18</th>\n",
       "      <td>46</td>\n",
       "      <td>3</td>\n",
       "      <td>3.152235</td>\n",
       "    </tr>\n",
       "    <tr>\n",
       "      <th>19</th>\n",
       "      <td>21</td>\n",
       "      <td>10</td>\n",
       "      <td>6.116278</td>\n",
       "    </tr>\n",
       "  </tbody>\n",
       "</table>\n",
       "</div>"
      ],
      "text/plain": [
       "    Marks  Grades     Ypred\n",
       "0      44       4  3.389359\n",
       "1      11       9  7.301895\n",
       "2      17       5  6.590525\n",
       "3      21       6  6.116278\n",
       "4      39       8  3.982167\n",
       "5      47       6  3.033674\n",
       "6      47       3  3.033674\n",
       "7      44       0  3.389359\n",
       "8      23       6  5.879154\n",
       "9       8       9  7.657580\n",
       "10      1       8  8.487512\n",
       "11     29       4  5.167784\n",
       "12     13       2  7.064771\n",
       "13     49       0  2.796550\n",
       "14     36       3  4.337852\n",
       "15     12       6  7.183333\n",
       "16     50       2  2.677989\n",
       "17     25       9  5.642031\n",
       "18     46       3  3.152235\n",
       "19     21      10  6.116278"
      ]
     },
     "execution_count": 24,
     "metadata": {},
     "output_type": "execute_result"
    }
   ],
   "source": [
    "data1['Ypred'] = m*data1[['Marks']]+c\n",
    "ynew = m*data1[['Marks']]+c\n",
    "data1"
   ]
  },
  {
   "cell_type": "code",
   "execution_count": 26,
   "id": "1535b3b0",
   "metadata": {},
   "outputs": [
    {
     "name": "stdout",
     "output_type": "stream",
     "text": [
      "THE MEAN SQUARED ERROR MSE IS 5.457680074250973\n"
     ]
    }
   ],
   "source": [
    "print(\"THE MEAN SQUARED ERROR MSE IS\",mean_squared_error(data1['Grades'],data1['Ypred']))"
   ]
  },
  {
   "cell_type": "code",
   "execution_count": 27,
   "id": "93255dbf",
   "metadata": {},
   "outputs": [
    {
     "name": "stdout",
     "output_type": "stream",
     "text": [
      "THE MEAN ABSOLUTE ERROR IS 1.7997862155989615\n"
     ]
    }
   ],
   "source": [
    "print(\"THE MEAN ABSOLUTE ERROR IS\",mean_absolute_error(data1['Grades'],data1['Ypred']))"
   ]
  },
  {
   "cell_type": "code",
   "execution_count": 28,
   "id": "16164c97",
   "metadata": {},
   "outputs": [
    {
     "name": "stdout",
     "output_type": "stream",
     "text": [
      "THE ROOT MEAN SQUARED ERROR IS 2.3361678180839176\n"
     ]
    }
   ],
   "source": [
    "print(\"THE ROOT MEAN SQUARED ERROR IS\",mean_squared_error(data1['Grades'],data1['Ypred'],squared=False))"
   ]
  },
  {
   "cell_type": "markdown",
   "id": "99050bbf",
   "metadata": {},
   "source": [
    "# Regression plot"
   ]
  },
  {
   "cell_type": "code",
   "execution_count": 24,
   "id": "07da31bf",
   "metadata": {
    "scrolled": false
   },
   "outputs": [
    {
     "data": {
      "image/png": "[encoded data removed]",
      "text/plain": [
       "<Figure size 720x720 with 1 Axes>"
      ]
     },
     "metadata": {
      "needs_background": "light"
     },
     "output_type": "display_data"
    }
   ],
   "source": [
    "plt.figure(figsize=(10,10))\n",
    "plt.scatter(x,y)\n",
    "a = data1['Marks']\n",
    "b = data1['Ypred']\n",
    "plt.plot(a,b,color='red')\n",
    "plt.show()"
   ]
  },
  {
   "cell_type": "markdown",
   "id": "91cac208",
   "metadata": {},
   "source": [
    "# Linear regression using train_test_split"
   ]
  },
  {
   "cell_type": "code",
   "execution_count": 25,
   "id": "4a7e7c73",
   "metadata": {},
   "outputs": [
    {
     "data": {
      "text/html": [
       "<div>\n",
       "<style scoped>\n",
       "    .dataframe tbody tr th:only-of-type {\n",
       "        vertical-align: middle;\n",
       "    }\n",
       "\n",
       "    .dataframe tbody tr th {\n",
       "        vertical-align: top;\n",
       "    }\n",
       "\n",
       "    .dataframe thead th {\n",
       "        text-align: right;\n",
       "    }\n",
       "</style>\n",
       "<table border=\"1\" class=\"dataframe\">\n",
       "  <thead>\n",
       "    <tr style=\"text-align: right;\">\n",
       "      <th></th>\n",
       "      <th>Marks</th>\n",
       "    </tr>\n",
       "  </thead>\n",
       "  <tbody>\n",
       "    <tr>\n",
       "      <th>10</th>\n",
       "      <td>8</td>\n",
       "    </tr>\n",
       "    <tr>\n",
       "      <th>6</th>\n",
       "      <td>44</td>\n",
       "    </tr>\n",
       "    <tr>\n",
       "      <th>17</th>\n",
       "      <td>19</td>\n",
       "    </tr>\n",
       "    <tr>\n",
       "      <th>18</th>\n",
       "      <td>21</td>\n",
       "    </tr>\n",
       "    <tr>\n",
       "      <th>16</th>\n",
       "      <td>34</td>\n",
       "    </tr>\n",
       "    <tr>\n",
       "      <th>2</th>\n",
       "      <td>19</td>\n",
       "    </tr>\n",
       "    <tr>\n",
       "      <th>8</th>\n",
       "      <td>16</td>\n",
       "    </tr>\n",
       "    <tr>\n",
       "      <th>13</th>\n",
       "      <td>43</td>\n",
       "    </tr>\n",
       "    <tr>\n",
       "      <th>3</th>\n",
       "      <td>41</td>\n",
       "    </tr>\n",
       "    <tr>\n",
       "      <th>1</th>\n",
       "      <td>30</td>\n",
       "    </tr>\n",
       "    <tr>\n",
       "      <th>12</th>\n",
       "      <td>2</td>\n",
       "    </tr>\n",
       "    <tr>\n",
       "      <th>4</th>\n",
       "      <td>49</td>\n",
       "    </tr>\n",
       "  </tbody>\n",
       "</table>\n",
       "</div>"
      ],
      "text/plain": [
       "    Marks\n",
       "10      8\n",
       "6      44\n",
       "17     19\n",
       "18     21\n",
       "16     34\n",
       "2      19\n",
       "8      16\n",
       "13     43\n",
       "3      41\n",
       "1      30\n",
       "12      2\n",
       "4      49"
      ]
     },
     "execution_count": 25,
     "metadata": {},
     "output_type": "execute_result"
    }
   ],
   "source": [
    "X_train, X_test,Y_train,Y_test = train_test_split(x,y,test_size = 0.4)\n",
    "X_train"
   ]
  },
  {
   "cell_type": "code",
   "execution_count": 26,
   "id": "42a126d8",
   "metadata": {},
   "outputs": [
    {
     "data": {
      "text/plain": [
       "0.014525567658500771"
      ]
     },
     "execution_count": 26,
     "metadata": {},
     "output_type": "execute_result"
    }
   ],
   "source": [
    "lr2 = LinearRegression()\n",
    "lr2.fit(X_train,Y_train)\n",
    "lr2.score(X_train,Y_train)"
   ]
  },
  {
   "cell_type": "code",
   "execution_count": 27,
   "id": "3e936f6d",
   "metadata": {},
   "outputs": [
    {
     "data": {
      "text/plain": [
       "array([[5.12583214],\n",
       "       [5.56989949],\n",
       "       [5.298525  ],\n",
       "       [5.84127399],\n",
       "       [6.03863725],\n",
       "       [4.90379846],\n",
       "       [5.91528521],\n",
       "       [6.06330766],\n",
       "       [5.22451377],\n",
       "       [5.37253622],\n",
       "       [5.0271505 ],\n",
       "       [5.10116173],\n",
       "       [4.87912805],\n",
       "       [5.8906148 ],\n",
       "       [5.61924031],\n",
       "       [5.0271505 ],\n",
       "       [5.66858113],\n",
       "       [5.298525  ],\n",
       "       [5.34786581],\n",
       "       [4.87912805]])"
      ]
     },
     "execution_count": 27,
     "metadata": {},
     "output_type": "execute_result"
    }
   ],
   "source": [
    "ynew1 = lr2.predict(data1[['Marks']])\n",
    "ynew1"
   ]
  },
  {
   "cell_type": "code",
   "execution_count": 28,
   "id": "b03f2375",
   "metadata": {},
   "outputs": [
    {
     "data": {
      "image/png": "[encoded data removed]",
      "text/plain": [
       "<Figure size 720x720 with 1 Axes>"
      ]
     },
     "metadata": {
      "needs_background": "light"
     },
     "output_type": "display_data"
    }
   ],
   "source": [
    "plt.figure(figsize=(10,10))\n",
    "plt.plot(data1['Marks'],ynew1,color='red')\n",
    "plt.scatter(x,y)\n",
    "plt.show()"
   ]
  },
  {
   "cell_type": "markdown",
   "id": "7c9b2e51",
   "metadata": {},
   "source": [
    "# Prediction of grade by inputting a new value"
   ]
  },
  {
   "cell_type": "code",
   "execution_count": 29,
   "id": "a3ad7831",
   "metadata": {},
   "outputs": [
    {
     "name": "stderr",
     "output_type": "stream",
     "text": [
      "C:\\Users\\jarvi\\AppData\\Roaming\\Python\\Python39\\site-packages\\sklearn\\base.py:420: UserWarning: X does not have valid feature names, but LinearRegression was fitted with feature names\n",
      "  warnings.warn(\n"
     ]
    },
    {
     "data": {
      "text/plain": [
       "array([[5.69325153]])"
      ]
     },
     "execution_count": 29,
     "metadata": {},
     "output_type": "execute_result"
    }
   ],
   "source": [
    "lr2.predict([[35]])"
   ]
  },
  {
   "cell_type": "code",
   "execution_count": 30,
   "id": "356de81f",
   "metadata": {},
   "outputs": [
    {
     "data": {
      "text/plain": [
       "array([[4.87912805],\n",
       "       [5.12583214],\n",
       "       [4.90379846],\n",
       "       [5.37253622],\n",
       "       [6.06330766],\n",
       "       [5.10116173],\n",
       "       [5.0271505 ],\n",
       "       [5.61924031]])"
      ]
     },
     "execution_count": 30,
     "metadata": {},
     "output_type": "execute_result"
    }
   ],
   "source": [
    "lr2.predict(X_test)"
   ]
  },
  {
   "cell_type": "markdown",
   "id": "91d21f06",
   "metadata": {},
   "source": [
    "# SLR ERRORS"
   ]
  },
  {
   "cell_type": "code",
   "execution_count": 31,
   "id": "21a2aefe",
   "metadata": {},
   "outputs": [
    {
     "name": "stdout",
     "output_type": "stream",
     "text": [
      "THE MEAN SQUARED ERROR MSE IS 9.034041093851638\n",
      "THE MEAN ABSOLUTE ERROR IS 2.834375407910194\n",
      "THE ROOT MEAN SQUARED ERROR IS 3.005668160967148\n"
     ]
    }
   ],
   "source": [
    "print(\"THE MEAN SQUARED ERROR MSE IS\",mean_squared_error(data1['Grades'],ynew1))\n",
    "\n",
    "print(\"THE MEAN ABSOLUTE ERROR IS\",mean_absolute_error(data1['Grades'],ynew1))\n",
    "\n",
    "print(\"THE ROOT MEAN SQUARED ERROR IS\",mean_squared_error(data1['Grades'],ynew1,squared=False))"
   ]
  },
  {
   "cell_type": "markdown",
   "id": "2d73ea49",
   "metadata": {},
   "source": [
    "# MLR"
   ]
  },
  {
   "cell_type": "code",
   "execution_count": 30,
   "id": "e6786530",
   "metadata": {},
   "outputs": [
    {
     "data": {
      "text/html": [
       "<div>\n",
       "<style scoped>\n",
       "    .dataframe tbody tr th:only-of-type {\n",
       "        vertical-align: middle;\n",
       "    }\n",
       "\n",
       "    .dataframe tbody tr th {\n",
       "        vertical-align: top;\n",
       "    }\n",
       "\n",
       "    .dataframe thead th {\n",
       "        text-align: right;\n",
       "    }\n",
       "</style>\n",
       "<table border=\"1\" class=\"dataframe\">\n",
       "  <thead>\n",
       "    <tr style=\"text-align: right;\">\n",
       "      <th></th>\n",
       "      <th>Subject1</th>\n",
       "      <th>Subject2</th>\n",
       "      <th>Subject3</th>\n",
       "      <th>Grade</th>\n",
       "    </tr>\n",
       "  </thead>\n",
       "  <tbody>\n",
       "    <tr>\n",
       "      <th>0</th>\n",
       "      <td>17</td>\n",
       "      <td>25</td>\n",
       "      <td>19</td>\n",
       "      <td>9</td>\n",
       "    </tr>\n",
       "    <tr>\n",
       "      <th>1</th>\n",
       "      <td>23</td>\n",
       "      <td>32</td>\n",
       "      <td>10</td>\n",
       "      <td>3</td>\n",
       "    </tr>\n",
       "    <tr>\n",
       "      <th>2</th>\n",
       "      <td>12</td>\n",
       "      <td>9</td>\n",
       "      <td>28</td>\n",
       "      <td>7</td>\n",
       "    </tr>\n",
       "    <tr>\n",
       "      <th>3</th>\n",
       "      <td>33</td>\n",
       "      <td>42</td>\n",
       "      <td>44</td>\n",
       "      <td>2</td>\n",
       "    </tr>\n",
       "    <tr>\n",
       "      <th>4</th>\n",
       "      <td>33</td>\n",
       "      <td>42</td>\n",
       "      <td>34</td>\n",
       "      <td>0</td>\n",
       "    </tr>\n",
       "    <tr>\n",
       "      <th>5</th>\n",
       "      <td>39</td>\n",
       "      <td>39</td>\n",
       "      <td>48</td>\n",
       "      <td>2</td>\n",
       "    </tr>\n",
       "    <tr>\n",
       "      <th>6</th>\n",
       "      <td>16</td>\n",
       "      <td>16</td>\n",
       "      <td>45</td>\n",
       "      <td>5</td>\n",
       "    </tr>\n",
       "    <tr>\n",
       "      <th>7</th>\n",
       "      <td>38</td>\n",
       "      <td>8</td>\n",
       "      <td>17</td>\n",
       "      <td>4</td>\n",
       "    </tr>\n",
       "    <tr>\n",
       "      <th>8</th>\n",
       "      <td>49</td>\n",
       "      <td>3</td>\n",
       "      <td>38</td>\n",
       "      <td>7</td>\n",
       "    </tr>\n",
       "    <tr>\n",
       "      <th>9</th>\n",
       "      <td>18</td>\n",
       "      <td>29</td>\n",
       "      <td>27</td>\n",
       "      <td>5</td>\n",
       "    </tr>\n",
       "    <tr>\n",
       "      <th>10</th>\n",
       "      <td>41</td>\n",
       "      <td>43</td>\n",
       "      <td>45</td>\n",
       "      <td>1</td>\n",
       "    </tr>\n",
       "    <tr>\n",
       "      <th>11</th>\n",
       "      <td>1</td>\n",
       "      <td>25</td>\n",
       "      <td>10</td>\n",
       "      <td>7</td>\n",
       "    </tr>\n",
       "    <tr>\n",
       "      <th>12</th>\n",
       "      <td>48</td>\n",
       "      <td>19</td>\n",
       "      <td>0</td>\n",
       "      <td>6</td>\n",
       "    </tr>\n",
       "    <tr>\n",
       "      <th>13</th>\n",
       "      <td>4</td>\n",
       "      <td>13</td>\n",
       "      <td>28</td>\n",
       "      <td>1</td>\n",
       "    </tr>\n",
       "    <tr>\n",
       "      <th>14</th>\n",
       "      <td>24</td>\n",
       "      <td>45</td>\n",
       "      <td>14</td>\n",
       "      <td>2</td>\n",
       "    </tr>\n",
       "    <tr>\n",
       "      <th>15</th>\n",
       "      <td>39</td>\n",
       "      <td>41</td>\n",
       "      <td>43</td>\n",
       "      <td>4</td>\n",
       "    </tr>\n",
       "    <tr>\n",
       "      <th>16</th>\n",
       "      <td>21</td>\n",
       "      <td>17</td>\n",
       "      <td>34</td>\n",
       "      <td>1</td>\n",
       "    </tr>\n",
       "    <tr>\n",
       "      <th>17</th>\n",
       "      <td>43</td>\n",
       "      <td>31</td>\n",
       "      <td>3</td>\n",
       "      <td>9</td>\n",
       "    </tr>\n",
       "    <tr>\n",
       "      <th>18</th>\n",
       "      <td>10</td>\n",
       "      <td>49</td>\n",
       "      <td>23</td>\n",
       "      <td>0</td>\n",
       "    </tr>\n",
       "    <tr>\n",
       "      <th>19</th>\n",
       "      <td>31</td>\n",
       "      <td>33</td>\n",
       "      <td>32</td>\n",
       "      <td>3</td>\n",
       "    </tr>\n",
       "  </tbody>\n",
       "</table>\n",
       "</div>"
      ],
      "text/plain": [
       "    Subject1  Subject2  Subject3  Grade\n",
       "0         17        25        19      9\n",
       "1         23        32        10      3\n",
       "2         12         9        28      7\n",
       "3         33        42        44      2\n",
       "4         33        42        34      0\n",
       "5         39        39        48      2\n",
       "6         16        16        45      5\n",
       "7         38         8        17      4\n",
       "8         49         3        38      7\n",
       "9         18        29        27      5\n",
       "10        41        43        45      1\n",
       "11         1        25        10      7\n",
       "12        48        19         0      6\n",
       "13         4        13        28      1\n",
       "14        24        45        14      2\n",
       "15        39        41        43      4\n",
       "16        21        17        34      1\n",
       "17        43        31         3      9\n",
       "18        10        49        23      0\n",
       "19        31        33        32      3"
      ]
     },
     "execution_count": 30,
     "metadata": {},
     "output_type": "execute_result"
    }
   ],
   "source": [
    "import random as r\n",
    "l1 = []\n",
    "l2 = []\n",
    "l3 = []\n",
    "l4 = []\n",
    "for i in range(20):\n",
    "    l1.append(r.randint(0,50))\n",
    "    l2.append(r.randint(0,50))\n",
    "    l3.append(r.randint(0,50))\n",
    "    l4.append(r.randint(0,10))\n",
    "marks = {\"Subject1\":l1,\"Subject2\":l2,\"Subject3\":l3,\"Grade\":l4}\n",
    "data2 = pd.DataFrame(marks)\n",
    "data2"
   ]
  },
  {
   "cell_type": "code",
   "execution_count": 31,
   "id": "4e800ec8",
   "metadata": {},
   "outputs": [],
   "source": [
    "x = np.array(data2[['Subject1','Subject2','Subject3']])\n",
    "y = data2['Grade']"
   ]
  },
  {
   "cell_type": "markdown",
   "id": "06918549",
   "metadata": {},
   "source": [
    "# Fitting the model with R^2 value"
   ]
  },
  {
   "cell_type": "code",
   "execution_count": 32,
   "id": "9851e8c4",
   "metadata": {},
   "outputs": [
    {
     "data": {
      "text/plain": [
       "0.38885804199557417"
      ]
     },
     "execution_count": 32,
     "metadata": {},
     "output_type": "execute_result"
    }
   ],
   "source": [
    "lr4 = LinearRegression()\n",
    "lr4.fit(x,y)\n",
    "lr4.score(x,y)"
   ]
  },
  {
   "cell_type": "markdown",
   "id": "be21021a",
   "metadata": {},
   "source": [
    "# The coefficients of MLR are"
   ]
  },
  {
   "cell_type": "code",
   "execution_count": 33,
   "id": "7d30354d",
   "metadata": {
    "scrolled": true
   },
   "outputs": [
    {
     "name": "stdout",
     "output_type": "stream",
     "text": [
      "0.028679329153160276 -0.09231284448585256 -0.07346185948442442\n"
     ]
    }
   ],
   "source": [
    "print(lr4.coef_[0],lr4.coef_[1],lr4.coef_[2])"
   ]
  },
  {
   "cell_type": "markdown",
   "id": "6c8809cd",
   "metadata": {},
   "source": [
    "# Intercept of MLR"
   ]
  },
  {
   "cell_type": "code",
   "execution_count": 34,
   "id": "f7cebd6c",
   "metadata": {},
   "outputs": [
    {
     "data": {
      "text/plain": [
       "7.7058497927207386"
      ]
     },
     "execution_count": 34,
     "metadata": {},
     "output_type": "execute_result"
    }
   ],
   "source": [
    "c = lr4.intercept_\n",
    "c"
   ]
  },
  {
   "cell_type": "code",
   "execution_count": 35,
   "id": "1123ce93",
   "metadata": {},
   "outputs": [
    {
     "data": {
      "text/html": [
       "<div>\n",
       "<style scoped>\n",
       "    .dataframe tbody tr th:only-of-type {\n",
       "        vertical-align: middle;\n",
       "    }\n",
       "\n",
       "    .dataframe tbody tr th {\n",
       "        vertical-align: top;\n",
       "    }\n",
       "\n",
       "    .dataframe thead th {\n",
       "        text-align: right;\n",
       "    }\n",
       "</style>\n",
       "<table border=\"1\" class=\"dataframe\">\n",
       "  <thead>\n",
       "    <tr style=\"text-align: right;\">\n",
       "      <th></th>\n",
       "      <th>Subject1</th>\n",
       "      <th>Subject2</th>\n",
       "      <th>Subject3</th>\n",
       "      <th>Grade</th>\n",
       "      <th>pred</th>\n",
       "    </tr>\n",
       "  </thead>\n",
       "  <tbody>\n",
       "    <tr>\n",
       "      <th>0</th>\n",
       "      <td>17</td>\n",
       "      <td>25</td>\n",
       "      <td>19</td>\n",
       "      <td>9</td>\n",
       "      <td>4.489802</td>\n",
       "    </tr>\n",
       "    <tr>\n",
       "      <th>1</th>\n",
       "      <td>23</td>\n",
       "      <td>32</td>\n",
       "      <td>10</td>\n",
       "      <td>3</td>\n",
       "      <td>4.676845</td>\n",
       "    </tr>\n",
       "    <tr>\n",
       "      <th>2</th>\n",
       "      <td>12</td>\n",
       "      <td>9</td>\n",
       "      <td>28</td>\n",
       "      <td>7</td>\n",
       "      <td>5.162254</td>\n",
       "    </tr>\n",
       "    <tr>\n",
       "      <th>3</th>\n",
       "      <td>33</td>\n",
       "      <td>42</td>\n",
       "      <td>44</td>\n",
       "      <td>2</td>\n",
       "      <td>1.542806</td>\n",
       "    </tr>\n",
       "    <tr>\n",
       "      <th>4</th>\n",
       "      <td>33</td>\n",
       "      <td>42</td>\n",
       "      <td>34</td>\n",
       "      <td>0</td>\n",
       "      <td>2.277425</td>\n",
       "    </tr>\n",
       "    <tr>\n",
       "      <th>5</th>\n",
       "      <td>39</td>\n",
       "      <td>39</td>\n",
       "      <td>48</td>\n",
       "      <td>2</td>\n",
       "      <td>1.697973</td>\n",
       "    </tr>\n",
       "    <tr>\n",
       "      <th>6</th>\n",
       "      <td>16</td>\n",
       "      <td>16</td>\n",
       "      <td>45</td>\n",
       "      <td>5</td>\n",
       "      <td>3.381930</td>\n",
       "    </tr>\n",
       "    <tr>\n",
       "      <th>7</th>\n",
       "      <td>38</td>\n",
       "      <td>8</td>\n",
       "      <td>17</td>\n",
       "      <td>4</td>\n",
       "      <td>6.808310</td>\n",
       "    </tr>\n",
       "    <tr>\n",
       "      <th>8</th>\n",
       "      <td>49</td>\n",
       "      <td>3</td>\n",
       "      <td>38</td>\n",
       "      <td>7</td>\n",
       "      <td>6.042648</td>\n",
       "    </tr>\n",
       "    <tr>\n",
       "      <th>9</th>\n",
       "      <td>18</td>\n",
       "      <td>29</td>\n",
       "      <td>27</td>\n",
       "      <td>5</td>\n",
       "      <td>3.561535</td>\n",
       "    </tr>\n",
       "    <tr>\n",
       "      <th>10</th>\n",
       "      <td>41</td>\n",
       "      <td>43</td>\n",
       "      <td>45</td>\n",
       "      <td>1</td>\n",
       "      <td>1.606466</td>\n",
       "    </tr>\n",
       "    <tr>\n",
       "      <th>11</th>\n",
       "      <td>1</td>\n",
       "      <td>25</td>\n",
       "      <td>10</td>\n",
       "      <td>7</td>\n",
       "      <td>4.692089</td>\n",
       "    </tr>\n",
       "    <tr>\n",
       "      <th>12</th>\n",
       "      <td>48</td>\n",
       "      <td>19</td>\n",
       "      <td>0</td>\n",
       "      <td>6</td>\n",
       "      <td>7.328514</td>\n",
       "    </tr>\n",
       "    <tr>\n",
       "      <th>13</th>\n",
       "      <td>4</td>\n",
       "      <td>13</td>\n",
       "      <td>28</td>\n",
       "      <td>1</td>\n",
       "      <td>4.563568</td>\n",
       "    </tr>\n",
       "    <tr>\n",
       "      <th>14</th>\n",
       "      <td>24</td>\n",
       "      <td>45</td>\n",
       "      <td>14</td>\n",
       "      <td>2</td>\n",
       "      <td>3.211610</td>\n",
       "    </tr>\n",
       "    <tr>\n",
       "      <th>15</th>\n",
       "      <td>39</td>\n",
       "      <td>41</td>\n",
       "      <td>43</td>\n",
       "      <td>4</td>\n",
       "      <td>1.880657</td>\n",
       "    </tr>\n",
       "    <tr>\n",
       "      <th>16</th>\n",
       "      <td>21</td>\n",
       "      <td>17</td>\n",
       "      <td>34</td>\n",
       "      <td>1</td>\n",
       "      <td>4.241094</td>\n",
       "    </tr>\n",
       "    <tr>\n",
       "      <th>17</th>\n",
       "      <td>43</td>\n",
       "      <td>31</td>\n",
       "      <td>3</td>\n",
       "      <td>9</td>\n",
       "      <td>5.856977</td>\n",
       "    </tr>\n",
       "    <tr>\n",
       "      <th>18</th>\n",
       "      <td>10</td>\n",
       "      <td>49</td>\n",
       "      <td>23</td>\n",
       "      <td>0</td>\n",
       "      <td>1.779691</td>\n",
       "    </tr>\n",
       "    <tr>\n",
       "      <th>19</th>\n",
       "      <td>31</td>\n",
       "      <td>33</td>\n",
       "      <td>32</td>\n",
       "      <td>3</td>\n",
       "      <td>3.197806</td>\n",
       "    </tr>\n",
       "  </tbody>\n",
       "</table>\n",
       "</div>"
      ],
      "text/plain": [
       "    Subject1  Subject2  Subject3  Grade      pred\n",
       "0         17        25        19      9  4.489802\n",
       "1         23        32        10      3  4.676845\n",
       "2         12         9        28      7  5.162254\n",
       "3         33        42        44      2  1.542806\n",
       "4         33        42        34      0  2.277425\n",
       "5         39        39        48      2  1.697973\n",
       "6         16        16        45      5  3.381930\n",
       "7         38         8        17      4  6.808310\n",
       "8         49         3        38      7  6.042648\n",
       "9         18        29        27      5  3.561535\n",
       "10        41        43        45      1  1.606466\n",
       "11         1        25        10      7  4.692089\n",
       "12        48        19         0      6  7.328514\n",
       "13         4        13        28      1  4.563568\n",
       "14        24        45        14      2  3.211610\n",
       "15        39        41        43      4  1.880657\n",
       "16        21        17        34      1  4.241094\n",
       "17        43        31         3      9  5.856977\n",
       "18        10        49        23      0  1.779691\n",
       "19        31        33        32      3  3.197806"
      ]
     },
     "execution_count": 35,
     "metadata": {},
     "output_type": "execute_result"
    }
   ],
   "source": [
    "data2['pred'] = data2['Subject1']*lr4.coef_[0]+data2['Subject2']*lr4.coef_[1]+data2['Subject3']*lr4.coef_[2]+c\n",
    "data2"
   ]
  },
  {
   "cell_type": "markdown",
   "id": "ee70c21d",
   "metadata": {},
   "source": [
    "# Regplot"
   ]
  },
  {
   "cell_type": "code",
   "execution_count": 36,
   "id": "e5f389b0",
   "metadata": {},
   "outputs": [
    {
     "name": "stderr",
     "output_type": "stream",
     "text": [
      "C:\\Users\\jarvi\\anaconda3\\lib\\site-packages\\seaborn\\_decorators.py:36: FutureWarning: Pass the following variables as keyword args: x, y. From version 0.12, the only valid positional argument will be `data`, and passing other arguments without an explicit keyword will result in an error or misinterpretation.\n",
      "  warnings.warn(\n"
     ]
    },
    {
     "data": {
      "image/png": "[encoded data removed]",
      "text/plain": [
       "<Figure size 720x720 with 1 Axes>"
      ]
     },
     "metadata": {
      "needs_background": "light"
     },
     "output_type": "display_data"
    }
   ],
   "source": [
    "import seaborn as sns\n",
    "plt.figure(figsize=(10,10))\n",
    "sns.regplot(data2['Grade'],data2['pred'])\n",
    "plt.show()"
   ]
  },
  {
   "cell_type": "markdown",
   "id": "150bde36",
   "metadata": {},
   "source": [
    "# Splitting the dataset into training and testing set\n"
   ]
  },
  {
   "cell_type": "code",
   "execution_count": 37,
   "id": "171a6f7d",
   "metadata": {},
   "outputs": [
    {
     "data": {
      "text/html": [
       "<div>\n",
       "<style scoped>\n",
       "    .dataframe tbody tr th:only-of-type {\n",
       "        vertical-align: middle;\n",
       "    }\n",
       "\n",
       "    .dataframe tbody tr th {\n",
       "        vertical-align: top;\n",
       "    }\n",
       "\n",
       "    .dataframe thead th {\n",
       "        text-align: right;\n",
       "    }\n",
       "</style>\n",
       "<table border=\"1\" class=\"dataframe\">\n",
       "  <thead>\n",
       "    <tr style=\"text-align: right;\">\n",
       "      <th></th>\n",
       "      <th>Subject1</th>\n",
       "      <th>Subject2</th>\n",
       "      <th>Subject3</th>\n",
       "    </tr>\n",
       "  </thead>\n",
       "  <tbody>\n",
       "    <tr>\n",
       "      <th>18</th>\n",
       "      <td>10</td>\n",
       "      <td>49</td>\n",
       "      <td>23</td>\n",
       "    </tr>\n",
       "    <tr>\n",
       "      <th>11</th>\n",
       "      <td>1</td>\n",
       "      <td>25</td>\n",
       "      <td>10</td>\n",
       "    </tr>\n",
       "    <tr>\n",
       "      <th>5</th>\n",
       "      <td>39</td>\n",
       "      <td>39</td>\n",
       "      <td>48</td>\n",
       "    </tr>\n",
       "    <tr>\n",
       "      <th>6</th>\n",
       "      <td>16</td>\n",
       "      <td>16</td>\n",
       "      <td>45</td>\n",
       "    </tr>\n",
       "    <tr>\n",
       "      <th>15</th>\n",
       "      <td>39</td>\n",
       "      <td>41</td>\n",
       "      <td>43</td>\n",
       "    </tr>\n",
       "    <tr>\n",
       "      <th>1</th>\n",
       "      <td>23</td>\n",
       "      <td>32</td>\n",
       "      <td>10</td>\n",
       "    </tr>\n",
       "    <tr>\n",
       "      <th>14</th>\n",
       "      <td>24</td>\n",
       "      <td>45</td>\n",
       "      <td>14</td>\n",
       "    </tr>\n",
       "    <tr>\n",
       "      <th>10</th>\n",
       "      <td>41</td>\n",
       "      <td>43</td>\n",
       "      <td>45</td>\n",
       "    </tr>\n",
       "    <tr>\n",
       "      <th>16</th>\n",
       "      <td>21</td>\n",
       "      <td>17</td>\n",
       "      <td>34</td>\n",
       "    </tr>\n",
       "    <tr>\n",
       "      <th>13</th>\n",
       "      <td>4</td>\n",
       "      <td>13</td>\n",
       "      <td>28</td>\n",
       "    </tr>\n",
       "    <tr>\n",
       "      <th>9</th>\n",
       "      <td>18</td>\n",
       "      <td>29</td>\n",
       "      <td>27</td>\n",
       "    </tr>\n",
       "    <tr>\n",
       "      <th>17</th>\n",
       "      <td>43</td>\n",
       "      <td>31</td>\n",
       "      <td>3</td>\n",
       "    </tr>\n",
       "    <tr>\n",
       "      <th>7</th>\n",
       "      <td>38</td>\n",
       "      <td>8</td>\n",
       "      <td>17</td>\n",
       "    </tr>\n",
       "    <tr>\n",
       "      <th>0</th>\n",
       "      <td>17</td>\n",
       "      <td>25</td>\n",
       "      <td>19</td>\n",
       "    </tr>\n",
       "  </tbody>\n",
       "</table>\n",
       "</div>"
      ],
      "text/plain": [
       "    Subject1  Subject2  Subject3\n",
       "18        10        49        23\n",
       "11         1        25        10\n",
       "5         39        39        48\n",
       "6         16        16        45\n",
       "15        39        41        43\n",
       "1         23        32        10\n",
       "14        24        45        14\n",
       "10        41        43        45\n",
       "16        21        17        34\n",
       "13         4        13        28\n",
       "9         18        29        27\n",
       "17        43        31         3\n",
       "7         38         8        17\n",
       "0         17        25        19"
      ]
     },
     "execution_count": 37,
     "metadata": {},
     "output_type": "execute_result"
    }
   ],
   "source": [
    "x = data2.iloc[:,:3]\n",
    "y = data2['Grade']\n",
    "X_train,X_test,Y_train,Y_test = train_test_split(x,y,test_size = 0.3)\n",
    "X_train"
   ]
  },
  {
   "cell_type": "code",
   "execution_count": 38,
   "id": "3706bce6",
   "metadata": {},
   "outputs": [
    {
     "data": {
      "text/plain": [
       "6.946931240954769"
      ]
     },
     "execution_count": 38,
     "metadata": {},
     "output_type": "execute_result"
    }
   ],
   "source": [
    "lr4 = LinearRegression()\n",
    "lr4.fit(X_train,Y_train)\n",
    "c = lr4.intercept_\n",
    "c"
   ]
  },
  {
   "cell_type": "code",
   "execution_count": 39,
   "id": "5d0e4233",
   "metadata": {},
   "outputs": [
    {
     "data": {
      "text/plain": [
       "array([ 0.04423546, -0.06071323, -0.09277901])"
      ]
     },
     "execution_count": 39,
     "metadata": {},
     "output_type": "execute_result"
    }
   ],
   "source": [
    "lr4.coef_[:]"
   ]
  },
  {
   "cell_type": "markdown",
   "id": "fd658bd6",
   "metadata": {},
   "source": [
    "# Prediction of values based on X-training values"
   ]
  },
  {
   "cell_type": "code",
   "execution_count": 40,
   "id": "704208c0",
   "metadata": {},
   "outputs": [
    {
     "data": {
      "text/plain": [
       "array([2.28042038, 4.54554586, 1.85090578, 2.50823142, 2.19337438,\n",
       "       5.09373345, 3.97758089, 1.97486083, 3.68926465, 3.73678877,\n",
       "       3.47745261, 6.68860903, 6.56492979, 4.41830216])"
      ]
     },
     "execution_count": 40,
     "metadata": {},
     "output_type": "execute_result"
    }
   ],
   "source": [
    "ypred_train = lr4.predict(X_train)\n",
    "ypred_train"
   ]
  },
  {
   "cell_type": "code",
   "execution_count": 41,
   "id": "5d805c31",
   "metadata": {},
   "outputs": [
    {
     "data": {
      "image/png": "[encoded data removed]",
      "text/plain": [
       "<Figure size 720x720 with 1 Axes>"
      ]
     },
     "metadata": {
      "needs_background": "light"
     },
     "output_type": "display_data"
    }
   ],
   "source": [
    "import seaborn as sns\n",
    "plt.figure(figsize=(10,10))\n",
    "sns.regplot(x = Y_train,y = ypred_train)\n",
    "plt.xlabel(\"Actual values\")\n",
    "plt.ylabel(\"Predicted values\")\n",
    "plt.show()"
   ]
  },
  {
   "cell_type": "markdown",
   "id": "b5b1d500",
   "metadata": {},
   "source": [
    "# Predicting Grade value with a new input"
   ]
  },
  {
   "cell_type": "code",
   "execution_count": 42,
   "id": "5cb315a2",
   "metadata": {},
   "outputs": [
    {
     "name": "stderr",
     "output_type": "stream",
     "text": [
      "C:\\Users\\jarvi\\AppData\\Roaming\\Python\\Python39\\site-packages\\sklearn\\base.py:420: UserWarning: X does not have valid feature names, but LinearRegression was fitted with feature names\n",
      "  warnings.warn(\n"
     ]
    },
    {
     "data": {
      "text/plain": [
       "array([1.96789446])"
      ]
     },
     "execution_count": 42,
     "metadata": {},
     "output_type": "execute_result"
    }
   ],
   "source": [
    "lr4.predict([[23,30,45]])"
   ]
  },
  {
   "cell_type": "code",
   "execution_count": 44,
   "id": "d53bcfb7",
   "metadata": {},
   "outputs": [
    {
     "name": "stdout",
     "output_type": "stream",
     "text": [
      "THE MEAN ABSOLUTE ERROR IS 1.8691327897969932\n"
     ]
    }
   ],
   "source": [
    "print(\"THE MEAN ABSOLUTE ERROR IS\",mean_absolute_error(data2['Grade'],data2['pred']))"
   ]
  },
  {
   "cell_type": "code",
   "execution_count": 45,
   "id": "1bf87a48",
   "metadata": {},
   "outputs": [
    {
     "name": "stdout",
     "output_type": "stream",
     "text": [
      "THE ROOT MEAN SQUARED ERROR IS 2.18192480458298\n"
     ]
    }
   ],
   "source": [
    "print(\"THE ROOT MEAN SQUARED ERROR IS\",mean_squared_error(data2['Grade'],data2['pred'],squared=False))"
   ]
  },
  {
   "cell_type": "code",
   "execution_count": 46,
   "id": "74541c21",
   "metadata": {},
   "outputs": [
    {
     "name": "stdout",
     "output_type": "stream",
     "text": [
      "THE MEAN SQUARED ERROR MSE IS 4.760795852854477\n"
     ]
    }
   ],
   "source": [
    "print(\"THE MEAN SQUARED ERROR MSE IS\",mean_squared_error(data2['Grade'],data2['pred']))"
   ]
  },
  {
   "cell_type": "markdown",
   "id": "17ef4454",
   "metadata": {},
   "source": [
    "# Traveling Dataset"
   ]
  },
  {
   "cell_type": "code",
   "execution_count": 49,
   "id": "198d01f3",
   "metadata": {},
   "outputs": [
    {
     "data": {
      "text/html": [
       "<div>\n",
       "<style scoped>\n",
       "    .dataframe tbody tr th:only-of-type {\n",
       "        vertical-align: middle;\n",
       "    }\n",
       "\n",
       "    .dataframe tbody tr th {\n",
       "        vertical-align: top;\n",
       "    }\n",
       "\n",
       "    .dataframe thead th {\n",
       "        text-align: right;\n",
       "    }\n",
       "</style>\n",
       "<table border=\"1\" class=\"dataframe\">\n",
       "  <thead>\n",
       "    <tr style=\"text-align: right;\">\n",
       "      <th></th>\n",
       "      <th>SNO</th>\n",
       "      <th>Miles Traveled</th>\n",
       "      <th>Num deliveries</th>\n",
       "      <th>Travel time</th>\n",
       "    </tr>\n",
       "  </thead>\n",
       "  <tbody>\n",
       "    <tr>\n",
       "      <th>0</th>\n",
       "      <td>1</td>\n",
       "      <td>89</td>\n",
       "      <td>4</td>\n",
       "      <td>7.0</td>\n",
       "    </tr>\n",
       "    <tr>\n",
       "      <th>1</th>\n",
       "      <td>2</td>\n",
       "      <td>66</td>\n",
       "      <td>1</td>\n",
       "      <td>5.4</td>\n",
       "    </tr>\n",
       "    <tr>\n",
       "      <th>2</th>\n",
       "      <td>3</td>\n",
       "      <td>78</td>\n",
       "      <td>3</td>\n",
       "      <td>6.6</td>\n",
       "    </tr>\n",
       "    <tr>\n",
       "      <th>3</th>\n",
       "      <td>4</td>\n",
       "      <td>111</td>\n",
       "      <td>6</td>\n",
       "      <td>7.4</td>\n",
       "    </tr>\n",
       "    <tr>\n",
       "      <th>4</th>\n",
       "      <td>5</td>\n",
       "      <td>44</td>\n",
       "      <td>1</td>\n",
       "      <td>4.8</td>\n",
       "    </tr>\n",
       "    <tr>\n",
       "      <th>5</th>\n",
       "      <td>6</td>\n",
       "      <td>77</td>\n",
       "      <td>3</td>\n",
       "      <td>6.4</td>\n",
       "    </tr>\n",
       "    <tr>\n",
       "      <th>6</th>\n",
       "      <td>7</td>\n",
       "      <td>80</td>\n",
       "      <td>3</td>\n",
       "      <td>6.7</td>\n",
       "    </tr>\n",
       "    <tr>\n",
       "      <th>7</th>\n",
       "      <td>8</td>\n",
       "      <td>66</td>\n",
       "      <td>3</td>\n",
       "      <td>5.6</td>\n",
       "    </tr>\n",
       "    <tr>\n",
       "      <th>8</th>\n",
       "      <td>9</td>\n",
       "      <td>109</td>\n",
       "      <td>5</td>\n",
       "      <td>7.3</td>\n",
       "    </tr>\n",
       "    <tr>\n",
       "      <th>9</th>\n",
       "      <td>10</td>\n",
       "      <td>76</td>\n",
       "      <td>3</td>\n",
       "      <td>6.4</td>\n",
       "    </tr>\n",
       "  </tbody>\n",
       "</table>\n",
       "</div>"
      ],
      "text/plain": [
       "   SNO  Miles Traveled  Num deliveries  Travel time\n",
       "0    1              89               4          7.0\n",
       "1    2              66               1          5.4\n",
       "2    3              78               3          6.6\n",
       "3    4             111               6          7.4\n",
       "4    5              44               1          4.8\n",
       "5    6              77               3          6.4\n",
       "6    7              80               3          6.7\n",
       "7    8              66               3          5.6\n",
       "8    9             109               5          7.3\n",
       "9   10              76               3          6.4"
      ]
     },
     "execution_count": 49,
     "metadata": {},
     "output_type": "execute_result"
    }
   ],
   "source": [
    "data={\"SNO\":[1,2,3,4,5,6,7,8,9,10],\n",
    "      \"Miles Traveled\":[89,66,78,111,44,77,80,66,109,76],\n",
    "      \"Num deliveries\":[4,1,3,6,1,3,3,3,5,3],\n",
    "      \"Travel time\":[7,5.4,6.6,7.4,4.8,6.4,6.7,5.6,7.3,6.4]}\n",
    "df = pd.DataFrame(data)\n",
    "df"
   ]
  },
  {
   "cell_type": "markdown",
   "id": "6ada1552",
   "metadata": {},
   "source": [
    "# Fitting the model with the direct dataset values and calculating R^2 values"
   ]
  },
  {
   "cell_type": "code",
   "execution_count": 50,
   "id": "95a22ca0",
   "metadata": {},
   "outputs": [
    {
     "data": {
      "text/plain": [
       "0.8999508500616292"
      ]
     },
     "execution_count": 50,
     "metadata": {},
     "output_type": "execute_result"
    }
   ],
   "source": [
    "lr5 = LinearRegression()\n",
    "a1 = df[['Miles Traveled','Num deliveries']]\n",
    "b1 = df['Travel time']\n",
    "lr5.fit(a1,b1)\n",
    "lr5.score(a1,b1)"
   ]
  },
  {
   "cell_type": "markdown",
   "id": "f5d271ed",
   "metadata": {},
   "source": [
    "# Coefficients"
   ]
  },
  {
   "cell_type": "code",
   "execution_count": 51,
   "id": "96143282",
   "metadata": {},
   "outputs": [
    {
     "data": {
      "text/plain": [
       "0.035126895187870814"
      ]
     },
     "execution_count": 51,
     "metadata": {},
     "output_type": "execute_result"
    }
   ],
   "source": [
    "m = lr5.coef_[0]\n",
    "m"
   ]
  },
  {
   "cell_type": "code",
   "execution_count": 52,
   "id": "df157d3c",
   "metadata": {},
   "outputs": [
    {
     "data": {
      "text/plain": [
       "0.07031970995385597"
      ]
     },
     "execution_count": 52,
     "metadata": {},
     "output_type": "execute_result"
    }
   ],
   "source": [
    "m1 = lr5.coef_[1]\n",
    "m1"
   ]
  },
  {
   "cell_type": "markdown",
   "id": "0eac8d93",
   "metadata": {},
   "source": [
    "# Intercept"
   ]
  },
  {
   "cell_type": "code",
   "execution_count": 53,
   "id": "362defbb",
   "metadata": {},
   "outputs": [],
   "source": [
    "c = lr5.intercept_"
   ]
  },
  {
   "cell_type": "markdown",
   "id": "453f66c8",
   "metadata": {},
   "source": [
    "# Regplot"
   ]
  },
  {
   "cell_type": "code",
   "execution_count": 54,
   "id": "baeae671",
   "metadata": {},
   "outputs": [
    {
     "data": {
      "text/html": [
       "<div>\n",
       "<style scoped>\n",
       "    .dataframe tbody tr th:only-of-type {\n",
       "        vertical-align: middle;\n",
       "    }\n",
       "\n",
       "    .dataframe tbody tr th {\n",
       "        vertical-align: top;\n",
       "    }\n",
       "\n",
       "    .dataframe thead th {\n",
       "        text-align: right;\n",
       "    }\n",
       "</style>\n",
       "<table border=\"1\" class=\"dataframe\">\n",
       "  <thead>\n",
       "    <tr style=\"text-align: right;\">\n",
       "      <th></th>\n",
       "      <th>SNO</th>\n",
       "      <th>Miles Traveled</th>\n",
       "      <th>Num deliveries</th>\n",
       "      <th>Travel time</th>\n",
       "      <th>PREDICTED</th>\n",
       "    </tr>\n",
       "  </thead>\n",
       "  <tbody>\n",
       "    <tr>\n",
       "      <th>0</th>\n",
       "      <td>1</td>\n",
       "      <td>89</td>\n",
       "      <td>4</td>\n",
       "      <td>7.0</td>\n",
       "      <td>6.746449</td>\n",
       "    </tr>\n",
       "    <tr>\n",
       "      <th>1</th>\n",
       "      <td>2</td>\n",
       "      <td>66</td>\n",
       "      <td>1</td>\n",
       "      <td>5.4</td>\n",
       "      <td>5.727571</td>\n",
       "    </tr>\n",
       "    <tr>\n",
       "      <th>2</th>\n",
       "      <td>3</td>\n",
       "      <td>78</td>\n",
       "      <td>3</td>\n",
       "      <td>6.6</td>\n",
       "      <td>6.289733</td>\n",
       "    </tr>\n",
       "    <tr>\n",
       "      <th>3</th>\n",
       "      <td>4</td>\n",
       "      <td>111</td>\n",
       "      <td>6</td>\n",
       "      <td>7.4</td>\n",
       "      <td>7.659880</td>\n",
       "    </tr>\n",
       "    <tr>\n",
       "      <th>4</th>\n",
       "      <td>5</td>\n",
       "      <td>44</td>\n",
       "      <td>1</td>\n",
       "      <td>4.8</td>\n",
       "      <td>4.954779</td>\n",
       "    </tr>\n",
       "    <tr>\n",
       "      <th>5</th>\n",
       "      <td>6</td>\n",
       "      <td>77</td>\n",
       "      <td>3</td>\n",
       "      <td>6.4</td>\n",
       "      <td>6.254606</td>\n",
       "    </tr>\n",
       "    <tr>\n",
       "      <th>6</th>\n",
       "      <td>7</td>\n",
       "      <td>80</td>\n",
       "      <td>3</td>\n",
       "      <td>6.7</td>\n",
       "      <td>6.359987</td>\n",
       "    </tr>\n",
       "    <tr>\n",
       "      <th>7</th>\n",
       "      <td>8</td>\n",
       "      <td>66</td>\n",
       "      <td>3</td>\n",
       "      <td>5.6</td>\n",
       "      <td>5.868210</td>\n",
       "    </tr>\n",
       "    <tr>\n",
       "      <th>8</th>\n",
       "      <td>9</td>\n",
       "      <td>109</td>\n",
       "      <td>5</td>\n",
       "      <td>7.3</td>\n",
       "      <td>7.519306</td>\n",
       "    </tr>\n",
       "    <tr>\n",
       "      <th>9</th>\n",
       "      <td>10</td>\n",
       "      <td>76</td>\n",
       "      <td>3</td>\n",
       "      <td>6.4</td>\n",
       "      <td>6.219479</td>\n",
       "    </tr>\n",
       "  </tbody>\n",
       "</table>\n",
       "</div>"
      ],
      "text/plain": [
       "   SNO  Miles Traveled  Num deliveries  Travel time  PREDICTED\n",
       "0    1              89               4          7.0   6.746449\n",
       "1    2              66               1          5.4   5.727571\n",
       "2    3              78               3          6.6   6.289733\n",
       "3    4             111               6          7.4   7.659880\n",
       "4    5              44               1          4.8   4.954779\n",
       "5    6              77               3          6.4   6.254606\n",
       "6    7              80               3          6.7   6.359987\n",
       "7    8              66               3          5.6   5.868210\n",
       "8    9             109               5          7.3   7.519306\n",
       "9   10              76               3          6.4   6.219479"
      ]
     },
     "execution_count": 54,
     "metadata": {},
     "output_type": "execute_result"
    }
   ],
   "source": [
    "df['PREDICTED'] = c + df['Miles Traveled']*m+df['Num deliveries']*m1\n",
    "df"
   ]
  },
  {
   "cell_type": "code",
   "execution_count": 57,
   "id": "6ca337d0",
   "metadata": {},
   "outputs": [
    {
     "data": {
      "image/png": "[encoded data removed]",
      "text/plain": [
       "<Figure size 720x720 with 1 Axes>"
      ]
     },
     "metadata": {
      "needs_background": "light"
     },
     "output_type": "display_data"
    }
   ],
   "source": [
    "plt.figure(figsize=(10,10))\n",
    "sns.regplot(x='Travel time',y = 'PREDICTED',data=df)\n",
    "plt.show()"
   ]
  },
  {
   "cell_type": "code",
   "execution_count": 58,
   "id": "9dfeaa39",
   "metadata": {},
   "outputs": [
    {
     "data": {
      "text/plain": [
       "0.9037740507847387"
      ]
     },
     "execution_count": 58,
     "metadata": {},
     "output_type": "execute_result"
    }
   ],
   "source": [
    "x_train,x_test,y_train,y_test = train_test_split(a1,b1,test_size = 0.2)\n",
    "lr6 = LinearRegression()\n",
    "lr6.fit(x_train,y_train)\n",
    "lr6.score(x_train,y_train)"
   ]
  },
  {
   "cell_type": "markdown",
   "id": "9a5a7861",
   "metadata": {},
   "source": [
    "# Coefficients using the train_test_function"
   ]
  },
  {
   "cell_type": "code",
   "execution_count": 59,
   "id": "ac7866ad",
   "metadata": {},
   "outputs": [
    {
     "data": {
      "text/plain": [
       "array([0.03050744, 0.14652759])"
      ]
     },
     "execution_count": 59,
     "metadata": {},
     "output_type": "execute_result"
    }
   ],
   "source": [
    "lr6.coef_"
   ]
  },
  {
   "cell_type": "markdown",
   "id": "38606436",
   "metadata": {},
   "source": [
    "# Intercept using the train_test_function"
   ]
  },
  {
   "cell_type": "code",
   "execution_count": 60,
   "id": "c03f80fc",
   "metadata": {},
   "outputs": [
    {
     "data": {
      "text/plain": [
       "3.529776990758675"
      ]
     },
     "execution_count": 60,
     "metadata": {},
     "output_type": "execute_result"
    }
   ],
   "source": [
    "lr6.intercept_"
   ]
  },
  {
   "cell_type": "markdown",
   "id": "e479ac33",
   "metadata": {},
   "source": [
    "# Predicting values with predict function"
   ]
  },
  {
   "cell_type": "code",
   "execution_count": 61,
   "id": "dc03c4f1",
   "metadata": {},
   "outputs": [],
   "source": [
    "yhat = lr6.predict(a1)"
   ]
  },
  {
   "cell_type": "code",
   "execution_count": 62,
   "id": "73203b6c",
   "metadata": {},
   "outputs": [
    {
     "data": {
      "image/png": "[encoded data removed]",
      "text/plain": [
       "<Figure size 720x720 with 1 Axes>"
      ]
     },
     "metadata": {
      "needs_background": "light"
     },
     "output_type": "display_data"
    }
   ],
   "source": [
    "plt.figure(figsize=(10,10))\n",
    "sns.regplot(x=b1,y=yhat)\n",
    "plt.show()"
   ]
  },
  {
   "cell_type": "code",
   "execution_count": 64,
   "id": "19eebcca",
   "metadata": {},
   "outputs": [
    {
     "name": "stdout",
     "output_type": "stream",
     "text": [
      "THE MEAN ABSOLUTE ERROR IS 0.24594924192485176\n"
     ]
    }
   ],
   "source": [
    "print(\"THE MEAN ABSOLUTE ERROR IS\",mean_absolute_error(df['Travel time'],df['PREDICTED']))"
   ]
  },
  {
   "cell_type": "code",
   "execution_count": 65,
   "id": "0aae51d9",
   "metadata": {},
   "outputs": [
    {
     "name": "stdout",
     "output_type": "stream",
     "text": [
      "THE ROOT MEAN SQUARED ERROR IS 0.254699565802613\n"
     ]
    }
   ],
   "source": [
    "print(\"THE ROOT MEAN SQUARED ERROR IS\",mean_squared_error(df['Travel time'],df['PREDICTED'],squared=False))"
   ]
  },
  {
   "cell_type": "code",
   "execution_count": 66,
   "id": "408087f8",
   "metadata": {},
   "outputs": [
    {
     "name": "stdout",
     "output_type": "stream",
     "text": [
      "THE MEAN SQUARED ERROR MSE IS 0.06487186882003959\n"
     ]
    }
   ],
   "source": [
    "print(\"THE MEAN SQUARED ERROR MSE IS\",mean_squared_error(df['Travel time'],df['PREDICTED']))"
   ]
  },
  {
   "cell_type": "code",
   "execution_count": null,
   "id": "d9c1e488",
   "metadata": {},
   "outputs": [],
   "source": [
    "\n"
   ]
  }
 ],
 "metadata": {
  "kernelspec": {
   "display_name": "Python 3 (ipykernel)",
   "language": "python",
   "name": "python3"
  },
  "language_info": {
   "codemirror_mode": {
    "name": "ipython",
    "version": 3
   },
   "file_extension": ".py",
   "mimetype": "text/x-python",
   "name": "python",
   "nbconvert_exporter": "python",
   "pygments_lexer": "ipython3",
   "version": "3.9.13"
  }
 },
 "nbformat": 4,
 "nbformat_minor": 5
}
